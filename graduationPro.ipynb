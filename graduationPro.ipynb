{
 "cells": [
  {
   "cell_type": "code",
   "execution_count": 1,
   "id": "1b3d70aa",
   "metadata": {},
   "outputs": [],
   "source": [
    "import pandas as pd\n",
    "import matplotlib.pyplot as plt\n",
    "import re\n",
    "import time\n",
    "import warnings\n",
    "import numpy as np\n",
    "from nltk.corpus import stopwords\n",
    "from sklearn.decomposition import TruncatedSVD\n",
    "from sklearn.preprocessing import normalize\n",
    "from sklearn.feature_extraction.text import CountVectorizer\n",
    "from sklearn.manifold import TSNE\n",
    "import seaborn as sns\n",
    "from sklearn.neighbors import KNeighborsClassifier\n",
    "from sklearn.metrics import confusion_matrix\n",
    "from sklearn.metrics import classification_report\n",
    "from sklearn.preprocessing import LabelEncoder , OneHotEncoder\n",
    "from sklearn.feature_extraction.text import TfidfVectorizer\n",
    "from sklearn.linear_model import SGDClassifier\n",
    "from imblearn.over_sampling import SMOTE\n",
    "from collections import Counter\n",
    "from scipy.sparse import hstack\n",
    "from sklearn.multiclass import OneVsRestClassifier\n",
    "from sklearn.svm import SVC\n",
    "from sklearn.model_selection import StratifiedKFold \n",
    "from collections import Counter, defaultdict\n",
    "from sklearn.calibration import CalibratedClassifierCV\n",
    "from sklearn.naive_bayes import MultinomialNB\n",
    "from sklearn.naive_bayes import GaussianNB\n",
    "from sklearn.model_selection import train_test_split\n",
    "from sklearn.model_selection import GridSearchCV\n",
    "from sklearn.metrics import accuracy_score\n",
    "import math\n",
    "from sklearn.metrics import normalized_mutual_info_score\n",
    "from sklearn.ensemble import RandomForestClassifier\n",
    "warnings.filterwarnings(\"ignore\")\n",
    "import mlxtend.classifier\n",
    "from mlxtend.classifier import StackingClassifier\n",
    "\n",
    "from sklearn import model_selection\n",
    "from sklearn.linear_model import LogisticRegression"
   ]
  },
  {
   "cell_type": "code",
   "execution_count": 2,
   "id": "a2930635",
   "metadata": {},
   "outputs": [],
   "source": [
    "training_text = pd.read_csv('training_text', sep = \"\\|\\|\", engine='python',\n",
    "                           names = ['ID', 'TEXT'], skiprows = 1)\n",
    "training_variants = pd.read_csv('training_variants')\n",
    "temp_training_variants = pd.read_csv('training_variants')"
   ]
  },
  {
   "cell_type": "code",
   "execution_count": 3,
   "id": "acf893ef",
   "metadata": {},
   "outputs": [
    {
     "data": {
      "text/html": [
       "<div>\n",
       "<style scoped>\n",
       "    .dataframe tbody tr th:only-of-type {\n",
       "        vertical-align: middle;\n",
       "    }\n",
       "\n",
       "    .dataframe tbody tr th {\n",
       "        vertical-align: top;\n",
       "    }\n",
       "\n",
       "    .dataframe thead th {\n",
       "        text-align: right;\n",
       "    }\n",
       "</style>\n",
       "<table border=\"1\" class=\"dataframe\">\n",
       "  <thead>\n",
       "    <tr style=\"text-align: right;\">\n",
       "      <th></th>\n",
       "      <th>ID</th>\n",
       "      <th>TEXT</th>\n",
       "    </tr>\n",
       "  </thead>\n",
       "  <tbody>\n",
       "    <tr>\n",
       "      <th>0</th>\n",
       "      <td>0</td>\n",
       "      <td>Cyclin-dependent kinases (CDKs) regulate a var...</td>\n",
       "    </tr>\n",
       "    <tr>\n",
       "      <th>1</th>\n",
       "      <td>1</td>\n",
       "      <td>Abstract Background  Non-small cell lung canc...</td>\n",
       "    </tr>\n",
       "    <tr>\n",
       "      <th>2</th>\n",
       "      <td>2</td>\n",
       "      <td>Abstract Background  Non-small cell lung canc...</td>\n",
       "    </tr>\n",
       "    <tr>\n",
       "      <th>3</th>\n",
       "      <td>3</td>\n",
       "      <td>Recent evidence has demonstrated that acquired...</td>\n",
       "    </tr>\n",
       "    <tr>\n",
       "      <th>4</th>\n",
       "      <td>4</td>\n",
       "      <td>Oncogenic mutations in the monomeric Casitas B...</td>\n",
       "    </tr>\n",
       "  </tbody>\n",
       "</table>\n",
       "</div>"
      ],
      "text/plain": [
       "   ID                                               TEXT\n",
       "0   0  Cyclin-dependent kinases (CDKs) regulate a var...\n",
       "1   1   Abstract Background  Non-small cell lung canc...\n",
       "2   2   Abstract Background  Non-small cell lung canc...\n",
       "3   3  Recent evidence has demonstrated that acquired...\n",
       "4   4  Oncogenic mutations in the monomeric Casitas B..."
      ]
     },
     "execution_count": 3,
     "metadata": {},
     "output_type": "execute_result"
    }
   ],
   "source": [
    "training_text.head()"
   ]
  },
  {
   "cell_type": "code",
   "execution_count": 4,
   "id": "cc3b09f7",
   "metadata": {},
   "outputs": [
    {
     "name": "stdout",
     "output_type": "stream",
     "text": [
      "No of points in data:  3321\n",
      "No of features:  2\n",
      "Name of features:  ['ID' 'TEXT']\n"
     ]
    }
   ],
   "source": [
    "print('No of points in data: ', training_text.shape[0])\n",
    "print('No of features: ', training_text.shape[1])\n",
    "print(\"Name of features: \", training_text.columns.values)"
   ]
  },
  {
   "cell_type": "code",
   "execution_count": 5,
   "id": "1ba71137",
   "metadata": {},
   "outputs": [
    {
     "name": "stdout",
     "output_type": "stream",
     "text": [
      "No of points in data:  3321\n",
      "No of features:  4\n",
      "Name of features:  ['ID' 'Gene' 'Variation' 'Class']\n"
     ]
    }
   ],
   "source": [
    "print('No of points in data: ', training_variants.shape[0])\n",
    "print('No of features: ', training_variants.shape[1])\n",
    "print(\"Name of features: \", training_variants.columns.values)"
   ]
  },
  {
   "cell_type": "code",
   "execution_count": 6,
   "id": "ce7617f2",
   "metadata": {},
   "outputs": [
    {
     "data": {
      "text/html": [
       "<div>\n",
       "<style scoped>\n",
       "    .dataframe tbody tr th:only-of-type {\n",
       "        vertical-align: middle;\n",
       "    }\n",
       "\n",
       "    .dataframe tbody tr th {\n",
       "        vertical-align: top;\n",
       "    }\n",
       "\n",
       "    .dataframe thead th {\n",
       "        text-align: right;\n",
       "    }\n",
       "</style>\n",
       "<table border=\"1\" class=\"dataframe\">\n",
       "  <thead>\n",
       "    <tr style=\"text-align: right;\">\n",
       "      <th></th>\n",
       "      <th>ID</th>\n",
       "      <th>Gene</th>\n",
       "      <th>Variation</th>\n",
       "      <th>Class</th>\n",
       "    </tr>\n",
       "  </thead>\n",
       "  <tbody>\n",
       "    <tr>\n",
       "      <th>0</th>\n",
       "      <td>0</td>\n",
       "      <td>FAM58A</td>\n",
       "      <td>Truncating Mutations</td>\n",
       "      <td>1</td>\n",
       "    </tr>\n",
       "    <tr>\n",
       "      <th>1</th>\n",
       "      <td>1</td>\n",
       "      <td>CBL</td>\n",
       "      <td>W802*</td>\n",
       "      <td>2</td>\n",
       "    </tr>\n",
       "    <tr>\n",
       "      <th>2</th>\n",
       "      <td>2</td>\n",
       "      <td>CBL</td>\n",
       "      <td>Q249E</td>\n",
       "      <td>2</td>\n",
       "    </tr>\n",
       "    <tr>\n",
       "      <th>3</th>\n",
       "      <td>3</td>\n",
       "      <td>CBL</td>\n",
       "      <td>N454D</td>\n",
       "      <td>3</td>\n",
       "    </tr>\n",
       "    <tr>\n",
       "      <th>4</th>\n",
       "      <td>4</td>\n",
       "      <td>CBL</td>\n",
       "      <td>L399V</td>\n",
       "      <td>4</td>\n",
       "    </tr>\n",
       "  </tbody>\n",
       "</table>\n",
       "</div>"
      ],
      "text/plain": [
       "   ID    Gene             Variation  Class\n",
       "0   0  FAM58A  Truncating Mutations      1\n",
       "1   1     CBL                 W802*      2\n",
       "2   2     CBL                 Q249E      2\n",
       "3   3     CBL                 N454D      3\n",
       "4   4     CBL                 L399V      4"
      ]
     },
     "execution_count": 6,
     "metadata": {},
     "output_type": "execute_result"
    }
   ],
   "source": [
    "training_variants.head()"
   ]
  },
  {
   "cell_type": "code",
   "execution_count": 7,
   "id": "86aaf1f2",
   "metadata": {},
   "outputs": [],
   "source": [
    "import nltk\n",
    "#nltk.download()\n",
    "from nltk.corpus import stopwords\n",
    "# loading stopwords\n",
    "\n",
    "stop_words = set(stopwords.words('english'))"
   ]
  },
  {
   "cell_type": "code",
   "execution_count": 8,
   "id": "91aa72c7",
   "metadata": {},
   "outputs": [],
   "source": [
    "import re\n",
    "def nlp_prepocesssing(total_text, index, column):\n",
    "    if type(total_text) is not int:\n",
    "        string = \"\"\n",
    "        \n",
    "        #replace every specail character with space\n",
    "        total_text = re.sub('[^a-zA-Z0-9\\n]', ' ', total_text)\n",
    "        \n",
    "        #replace multple spaces with single space\n",
    "        total_text = re.sub('\\s+', ' ', total_text)\n",
    "        \n",
    "        #convert all char in lower case\n",
    "        total_text = total_text.lower()\n",
    "        \n",
    "        for word in total_text.split():\n",
    "            #word is not in stopword then store it\n",
    "            if not word in stop_words:\n",
    "                string += word + \" \"\n",
    "                \n",
    "        training_text[column][index] = string"
   ]
  },
  {
   "cell_type": "code",
   "execution_count": 9,
   "id": "aa6c2302",
   "metadata": {},
   "outputs": [
    {
     "name": "stdout",
     "output_type": "stream",
     "text": [
      "There is no text description for id:  1109\n",
      "There is no text description for id:  1277\n",
      "There is no text description for id:  1407\n",
      "There is no text description for id:  1639\n",
      "There is no text description for id:  2755\n",
      "Time took for preproceesing =  83.05598120000002 seconds\n"
     ]
    }
   ],
   "source": [
    "import time\n",
    "start_time = time.perf_counter() \n",
    "  \n",
    "for index, row in training_text.iterrows():\n",
    "    if type(row['TEXT']) is str:\n",
    "        nlp_prepocesssing(row['TEXT'], index, 'TEXT')\n",
    "    else:\n",
    "        print(\"There is no text description for id: \", index)\n",
    "print(\"Time took for preproceesing = \", time.perf_counter() -start_time, 'seconds')"
   ]
  },
  {
   "cell_type": "code",
   "execution_count": 10,
   "id": "cd7f3b02",
   "metadata": {},
   "outputs": [
    {
     "data": {
      "text/html": [
       "<div>\n",
       "<style scoped>\n",
       "    .dataframe tbody tr th:only-of-type {\n",
       "        vertical-align: middle;\n",
       "    }\n",
       "\n",
       "    .dataframe tbody tr th {\n",
       "        vertical-align: top;\n",
       "    }\n",
       "\n",
       "    .dataframe thead th {\n",
       "        text-align: right;\n",
       "    }\n",
       "</style>\n",
       "<table border=\"1\" class=\"dataframe\">\n",
       "  <thead>\n",
       "    <tr style=\"text-align: right;\">\n",
       "      <th></th>\n",
       "      <th>ID</th>\n",
       "      <th>Gene</th>\n",
       "      <th>Variation</th>\n",
       "      <th>Class</th>\n",
       "      <th>TEXT</th>\n",
       "    </tr>\n",
       "  </thead>\n",
       "  <tbody>\n",
       "    <tr>\n",
       "      <th>0</th>\n",
       "      <td>0</td>\n",
       "      <td>FAM58A</td>\n",
       "      <td>Truncating Mutations</td>\n",
       "      <td>1</td>\n",
       "      <td>cyclin dependent kinases cdks regulate variety...</td>\n",
       "    </tr>\n",
       "    <tr>\n",
       "      <th>1</th>\n",
       "      <td>1</td>\n",
       "      <td>CBL</td>\n",
       "      <td>W802*</td>\n",
       "      <td>2</td>\n",
       "      <td>abstract background non small cell lung cancer...</td>\n",
       "    </tr>\n",
       "    <tr>\n",
       "      <th>2</th>\n",
       "      <td>2</td>\n",
       "      <td>CBL</td>\n",
       "      <td>Q249E</td>\n",
       "      <td>2</td>\n",
       "      <td>abstract background non small cell lung cancer...</td>\n",
       "    </tr>\n",
       "    <tr>\n",
       "      <th>3</th>\n",
       "      <td>3</td>\n",
       "      <td>CBL</td>\n",
       "      <td>N454D</td>\n",
       "      <td>3</td>\n",
       "      <td>recent evidence demonstrated acquired uniparen...</td>\n",
       "    </tr>\n",
       "    <tr>\n",
       "      <th>4</th>\n",
       "      <td>4</td>\n",
       "      <td>CBL</td>\n",
       "      <td>L399V</td>\n",
       "      <td>4</td>\n",
       "      <td>oncogenic mutations monomeric casitas b lineag...</td>\n",
       "    </tr>\n",
       "  </tbody>\n",
       "</table>\n",
       "</div>"
      ],
      "text/plain": [
       "   ID    Gene             Variation  Class  \\\n",
       "0   0  FAM58A  Truncating Mutations      1   \n",
       "1   1     CBL                 W802*      2   \n",
       "2   2     CBL                 Q249E      2   \n",
       "3   3     CBL                 N454D      3   \n",
       "4   4     CBL                 L399V      4   \n",
       "\n",
       "                                                TEXT  \n",
       "0  cyclin dependent kinases cdks regulate variety...  \n",
       "1  abstract background non small cell lung cancer...  \n",
       "2  abstract background non small cell lung cancer...  \n",
       "3  recent evidence demonstrated acquired uniparen...  \n",
       "4  oncogenic mutations monomeric casitas b lineag...  "
      ]
     },
     "execution_count": 10,
     "metadata": {},
     "output_type": "execute_result"
    }
   ],
   "source": [
    "df_data = pd.merge(training_variants,training_text, how = 'left')\n",
    "df_data.head()"
   ]
  },
  {
   "cell_type": "code",
   "execution_count": 11,
   "id": "8cb9b206",
   "metadata": {},
   "outputs": [
    {
     "data": {
      "text/plain": [
       "ID           False\n",
       "Gene         False\n",
       "Variation    False\n",
       "Class        False\n",
       "TEXT          True\n",
       "dtype: bool"
      ]
     },
     "execution_count": 11,
     "metadata": {},
     "output_type": "execute_result"
    }
   ],
   "source": [
    "df_data.isnull().any()"
   ]
  },
  {
   "cell_type": "code",
   "execution_count": 12,
   "id": "22b9ccb0",
   "metadata": {},
   "outputs": [
    {
     "name": "stdout",
     "output_type": "stream",
     "text": [
      "No of null values in TEXT data are : 5\n"
     ]
    }
   ],
   "source": [
    "print(\"No of null values in TEXT data are :\" , df_data['TEXT'].isnull().sum())"
   ]
  },
  {
   "cell_type": "code",
   "execution_count": 13,
   "id": "be89649b",
   "metadata": {},
   "outputs": [
    {
     "data": {
      "text/html": [
       "<div>\n",
       "<style scoped>\n",
       "    .dataframe tbody tr th:only-of-type {\n",
       "        vertical-align: middle;\n",
       "    }\n",
       "\n",
       "    .dataframe tbody tr th {\n",
       "        vertical-align: top;\n",
       "    }\n",
       "\n",
       "    .dataframe thead th {\n",
       "        text-align: right;\n",
       "    }\n",
       "</style>\n",
       "<table border=\"1\" class=\"dataframe\">\n",
       "  <thead>\n",
       "    <tr style=\"text-align: right;\">\n",
       "      <th></th>\n",
       "      <th>ID</th>\n",
       "      <th>Gene</th>\n",
       "      <th>Variation</th>\n",
       "      <th>Class</th>\n",
       "      <th>TEXT</th>\n",
       "    </tr>\n",
       "  </thead>\n",
       "  <tbody>\n",
       "    <tr>\n",
       "      <th>1109</th>\n",
       "      <td>1109</td>\n",
       "      <td>FANCA</td>\n",
       "      <td>S1088F</td>\n",
       "      <td>1</td>\n",
       "      <td>NaN</td>\n",
       "    </tr>\n",
       "    <tr>\n",
       "      <th>1277</th>\n",
       "      <td>1277</td>\n",
       "      <td>ARID5B</td>\n",
       "      <td>Truncating Mutations</td>\n",
       "      <td>1</td>\n",
       "      <td>NaN</td>\n",
       "    </tr>\n",
       "    <tr>\n",
       "      <th>1407</th>\n",
       "      <td>1407</td>\n",
       "      <td>FGFR3</td>\n",
       "      <td>K508M</td>\n",
       "      <td>6</td>\n",
       "      <td>NaN</td>\n",
       "    </tr>\n",
       "    <tr>\n",
       "      <th>1639</th>\n",
       "      <td>1639</td>\n",
       "      <td>FLT1</td>\n",
       "      <td>Amplification</td>\n",
       "      <td>6</td>\n",
       "      <td>NaN</td>\n",
       "    </tr>\n",
       "    <tr>\n",
       "      <th>2755</th>\n",
       "      <td>2755</td>\n",
       "      <td>BRAF</td>\n",
       "      <td>G596C</td>\n",
       "      <td>7</td>\n",
       "      <td>NaN</td>\n",
       "    </tr>\n",
       "  </tbody>\n",
       "</table>\n",
       "</div>"
      ],
      "text/plain": [
       "        ID    Gene             Variation  Class TEXT\n",
       "1109  1109   FANCA                S1088F      1  NaN\n",
       "1277  1277  ARID5B  Truncating Mutations      1  NaN\n",
       "1407  1407   FGFR3                 K508M      6  NaN\n",
       "1639  1639    FLT1         Amplification      6  NaN\n",
       "2755  2755    BRAF                 G596C      7  NaN"
      ]
     },
     "execution_count": 13,
     "metadata": {},
     "output_type": "execute_result"
    }
   ],
   "source": [
    "df_data[df_data.isnull().any(axis=1)]"
   ]
  },
  {
   "cell_type": "code",
   "execution_count": 14,
   "id": "6fb78b0a",
   "metadata": {},
   "outputs": [],
   "source": [
    "df_data.loc[df_data['TEXT'].isnull(), 'TEXT'] = df_data['Gene'] + ' ' + df_data['Variation']"
   ]
  },
  {
   "cell_type": "code",
   "execution_count": 15,
   "id": "da47df1b",
   "metadata": {},
   "outputs": [
    {
     "name": "stdout",
     "output_type": "stream",
     "text": [
      "No of null values in TEXT data are : 0\n"
     ]
    },
    {
     "data": {
      "text/html": [
       "<div>\n",
       "<style scoped>\n",
       "    .dataframe tbody tr th:only-of-type {\n",
       "        vertical-align: middle;\n",
       "    }\n",
       "\n",
       "    .dataframe tbody tr th {\n",
       "        vertical-align: top;\n",
       "    }\n",
       "\n",
       "    .dataframe thead th {\n",
       "        text-align: right;\n",
       "    }\n",
       "</style>\n",
       "<table border=\"1\" class=\"dataframe\">\n",
       "  <thead>\n",
       "    <tr style=\"text-align: right;\">\n",
       "      <th></th>\n",
       "      <th>ID</th>\n",
       "      <th>Gene</th>\n",
       "      <th>Variation</th>\n",
       "      <th>Class</th>\n",
       "      <th>TEXT</th>\n",
       "    </tr>\n",
       "  </thead>\n",
       "  <tbody>\n",
       "    <tr>\n",
       "      <th>1277</th>\n",
       "      <td>1277</td>\n",
       "      <td>ARID5B</td>\n",
       "      <td>Truncating Mutations</td>\n",
       "      <td>1</td>\n",
       "      <td>ARID5B Truncating Mutations</td>\n",
       "    </tr>\n",
       "  </tbody>\n",
       "</table>\n",
       "</div>"
      ],
      "text/plain": [
       "        ID    Gene             Variation  Class                         TEXT\n",
       "1277  1277  ARID5B  Truncating Mutations      1  ARID5B Truncating Mutations"
      ]
     },
     "execution_count": 15,
     "metadata": {},
     "output_type": "execute_result"
    }
   ],
   "source": [
    "print(\"No of null values in TEXT data are :\" , df_data['TEXT'].isnull().sum())\n",
    "df_data[df_data['ID'] == 1277]"
   ]
  },
  {
   "cell_type": "code",
   "execution_count": 16,
   "id": "05739fe1",
   "metadata": {},
   "outputs": [
    {
     "name": "stdout",
     "output_type": "stream",
     "text": [
      "No of null values in TEXT data are : 0\n"
     ]
    },
    {
     "data": {
      "text/html": [
       "<div>\n",
       "<style scoped>\n",
       "    .dataframe tbody tr th:only-of-type {\n",
       "        vertical-align: middle;\n",
       "    }\n",
       "\n",
       "    .dataframe tbody tr th {\n",
       "        vertical-align: top;\n",
       "    }\n",
       "\n",
       "    .dataframe thead th {\n",
       "        text-align: right;\n",
       "    }\n",
       "</style>\n",
       "<table border=\"1\" class=\"dataframe\">\n",
       "  <thead>\n",
       "    <tr style=\"text-align: right;\">\n",
       "      <th></th>\n",
       "      <th>ID</th>\n",
       "      <th>Gene</th>\n",
       "      <th>Variation</th>\n",
       "      <th>Class</th>\n",
       "      <th>TEXT</th>\n",
       "    </tr>\n",
       "  </thead>\n",
       "  <tbody>\n",
       "    <tr>\n",
       "      <th>1276</th>\n",
       "      <td>1276</td>\n",
       "      <td>PIK3R2</td>\n",
       "      <td>S273C</td>\n",
       "      <td>5</td>\n",
       "      <td>demonstrate phosphatidylinositol 3 kinase pi3k...</td>\n",
       "    </tr>\n",
       "  </tbody>\n",
       "</table>\n",
       "</div>"
      ],
      "text/plain": [
       "        ID    Gene Variation  Class  \\\n",
       "1276  1276  PIK3R2     S273C      5   \n",
       "\n",
       "                                                   TEXT  \n",
       "1276  demonstrate phosphatidylinositol 3 kinase pi3k...  "
      ]
     },
     "execution_count": 16,
     "metadata": {},
     "output_type": "execute_result"
    }
   ],
   "source": [
    "print(\"No of null values in TEXT data are :\" , df_data['TEXT'].isnull().sum())\n",
    "df_data[df_data['ID'] == 1276]"
   ]
  },
  {
   "cell_type": "code",
   "execution_count": 17,
   "id": "679ec481",
   "metadata": {},
   "outputs": [],
   "source": [
    "test_text = pd.read_csv('test_text', sep = \"\\|\\|\", engine='python',\n",
    "                           names = ['ID', 'TEXT'], skiprows = 1)\n",
    "test_variants = pd.read_csv('test_variants')"
   ]
  },
  {
   "cell_type": "code",
   "execution_count": 18,
   "id": "ec06d091",
   "metadata": {},
   "outputs": [
    {
     "data": {
      "text/html": [
       "<div>\n",
       "<style scoped>\n",
       "    .dataframe tbody tr th:only-of-type {\n",
       "        vertical-align: middle;\n",
       "    }\n",
       "\n",
       "    .dataframe tbody tr th {\n",
       "        vertical-align: top;\n",
       "    }\n",
       "\n",
       "    .dataframe thead th {\n",
       "        text-align: right;\n",
       "    }\n",
       "</style>\n",
       "<table border=\"1\" class=\"dataframe\">\n",
       "  <thead>\n",
       "    <tr style=\"text-align: right;\">\n",
       "      <th></th>\n",
       "      <th>ID</th>\n",
       "      <th>TEXT</th>\n",
       "    </tr>\n",
       "  </thead>\n",
       "  <tbody>\n",
       "    <tr>\n",
       "      <th>0</th>\n",
       "      <td>0</td>\n",
       "      <td>2. This mutation resulted in a myeloproliferat...</td>\n",
       "    </tr>\n",
       "    <tr>\n",
       "      <th>1</th>\n",
       "      <td>1</td>\n",
       "      <td>Abstract The Large Tumor Suppressor 1 (LATS1)...</td>\n",
       "    </tr>\n",
       "    <tr>\n",
       "      <th>2</th>\n",
       "      <td>2</td>\n",
       "      <td>Vascular endothelial growth factor receptor (V...</td>\n",
       "    </tr>\n",
       "    <tr>\n",
       "      <th>3</th>\n",
       "      <td>3</td>\n",
       "      <td>Inflammatory myofibroblastic tumor (IMT) is a ...</td>\n",
       "    </tr>\n",
       "    <tr>\n",
       "      <th>4</th>\n",
       "      <td>4</td>\n",
       "      <td>Abstract Retinoblastoma is a pediatric retina...</td>\n",
       "    </tr>\n",
       "  </tbody>\n",
       "</table>\n",
       "</div>"
      ],
      "text/plain": [
       "   ID                                               TEXT\n",
       "0   0  2. This mutation resulted in a myeloproliferat...\n",
       "1   1   Abstract The Large Tumor Suppressor 1 (LATS1)...\n",
       "2   2  Vascular endothelial growth factor receptor (V...\n",
       "3   3  Inflammatory myofibroblastic tumor (IMT) is a ...\n",
       "4   4   Abstract Retinoblastoma is a pediatric retina..."
      ]
     },
     "execution_count": 18,
     "metadata": {},
     "output_type": "execute_result"
    }
   ],
   "source": [
    "test_text.head()"
   ]
  },
  {
   "cell_type": "code",
   "execution_count": 19,
   "id": "e1311679",
   "metadata": {},
   "outputs": [
    {
     "name": "stdout",
     "output_type": "stream",
     "text": [
      "No of points in data:  5668\n",
      "No of features:  2\n",
      "Name of features:  ['ID' 'TEXT']\n"
     ]
    }
   ],
   "source": [
    "print('No of points in data: ', test_text.shape[0])\n",
    "print('No of features: ', test_text.shape[1])\n",
    "print(\"Name of features: \", test_text.columns.values)"
   ]
  },
  {
   "cell_type": "code",
   "execution_count": 20,
   "id": "36fe173b",
   "metadata": {},
   "outputs": [],
   "source": [
    "import re\n",
    "def nlp_prepocesssing(total_text, index, column):\n",
    "    if type(total_text) is not int:\n",
    "        string = \"\"\n",
    "        \n",
    "        #replace every specail character with space\n",
    "        total_text = re.sub('[^a-zA-Z0-9\\n]', ' ', total_text)\n",
    "        \n",
    "        #replace multple spaces with single space\n",
    "        total_text = re.sub('\\s+', ' ', total_text)\n",
    "        \n",
    "        #convert all char in lower case\n",
    "        total_text = total_text.lower()\n",
    "        \n",
    "        for word in total_text.split():\n",
    "            #word is not in stopword then store it\n",
    "            if not word in stop_words:\n",
    "                string += word + \" \"\n",
    "                \n",
    "        test_text[column][index] = string"
   ]
  },
  {
   "cell_type": "code",
   "execution_count": 21,
   "id": "45d94021",
   "metadata": {},
   "outputs": [
    {
     "name": "stdout",
     "output_type": "stream",
     "text": [
      "There is no text description for id:  1623\n",
      "Time took for preproceesing =  403.5206297 seconds\n"
     ]
    }
   ],
   "source": [
    "import time\n",
    "start_time = time.perf_counter() \n",
    "  \n",
    "for index, row in test_text.iterrows():\n",
    "    if type(row['TEXT']) is str:\n",
    "        nlp_prepocesssing(row['TEXT'], index, 'TEXT')\n",
    "    else:\n",
    "        print(\"There is no text description for id: \", index)\n",
    "print(\"Time took for preproceesing = \", time.perf_counter() -start_time, 'seconds')"
   ]
  },
  {
   "cell_type": "code",
   "execution_count": 22,
   "id": "ff92e886",
   "metadata": {},
   "outputs": [
    {
     "data": {
      "text/html": [
       "<div>\n",
       "<style scoped>\n",
       "    .dataframe tbody tr th:only-of-type {\n",
       "        vertical-align: middle;\n",
       "    }\n",
       "\n",
       "    .dataframe tbody tr th {\n",
       "        vertical-align: top;\n",
       "    }\n",
       "\n",
       "    .dataframe thead th {\n",
       "        text-align: right;\n",
       "    }\n",
       "</style>\n",
       "<table border=\"1\" class=\"dataframe\">\n",
       "  <thead>\n",
       "    <tr style=\"text-align: right;\">\n",
       "      <th></th>\n",
       "      <th>ID</th>\n",
       "      <th>Gene</th>\n",
       "      <th>Variation</th>\n",
       "      <th>TEXT</th>\n",
       "    </tr>\n",
       "  </thead>\n",
       "  <tbody>\n",
       "    <tr>\n",
       "      <th>0</th>\n",
       "      <td>0</td>\n",
       "      <td>ACSL4</td>\n",
       "      <td>R570S</td>\n",
       "      <td>2 mutation resulted myeloproliferative phenoty...</td>\n",
       "    </tr>\n",
       "    <tr>\n",
       "      <th>1</th>\n",
       "      <td>1</td>\n",
       "      <td>NAGLU</td>\n",
       "      <td>P521L</td>\n",
       "      <td>abstract large tumor suppressor 1 lats1 serine...</td>\n",
       "    </tr>\n",
       "    <tr>\n",
       "      <th>2</th>\n",
       "      <td>2</td>\n",
       "      <td>PAH</td>\n",
       "      <td>L333F</td>\n",
       "      <td>vascular endothelial growth factor receptor ve...</td>\n",
       "    </tr>\n",
       "    <tr>\n",
       "      <th>3</th>\n",
       "      <td>3</td>\n",
       "      <td>ING1</td>\n",
       "      <td>A148D</td>\n",
       "      <td>inflammatory myofibroblastic tumor imt neoplas...</td>\n",
       "    </tr>\n",
       "    <tr>\n",
       "      <th>4</th>\n",
       "      <td>4</td>\n",
       "      <td>TMEM216</td>\n",
       "      <td>G77A</td>\n",
       "      <td>abstract retinoblastoma pediatric retinal tumo...</td>\n",
       "    </tr>\n",
       "  </tbody>\n",
       "</table>\n",
       "</div>"
      ],
      "text/plain": [
       "   ID     Gene Variation                                               TEXT\n",
       "0   0    ACSL4     R570S  2 mutation resulted myeloproliferative phenoty...\n",
       "1   1    NAGLU     P521L  abstract large tumor suppressor 1 lats1 serine...\n",
       "2   2      PAH     L333F  vascular endothelial growth factor receptor ve...\n",
       "3   3     ING1     A148D  inflammatory myofibroblastic tumor imt neoplas...\n",
       "4   4  TMEM216      G77A  abstract retinoblastoma pediatric retinal tumo..."
      ]
     },
     "execution_count": 22,
     "metadata": {},
     "output_type": "execute_result"
    }
   ],
   "source": [
    "df_test = pd.merge(test_variants,test_text, how = 'left')\n",
    "df_test.head()"
   ]
  },
  {
   "cell_type": "code",
   "execution_count": 23,
   "id": "b482082f",
   "metadata": {},
   "outputs": [
    {
     "data": {
      "text/html": [
       "<div>\n",
       "<style scoped>\n",
       "    .dataframe tbody tr th:only-of-type {\n",
       "        vertical-align: middle;\n",
       "    }\n",
       "\n",
       "    .dataframe tbody tr th {\n",
       "        vertical-align: top;\n",
       "    }\n",
       "\n",
       "    .dataframe thead th {\n",
       "        text-align: right;\n",
       "    }\n",
       "</style>\n",
       "<table border=\"1\" class=\"dataframe\">\n",
       "  <thead>\n",
       "    <tr style=\"text-align: right;\">\n",
       "      <th></th>\n",
       "      <th>ID</th>\n",
       "      <th>Gene</th>\n",
       "      <th>Variation</th>\n",
       "      <th>TEXT</th>\n",
       "    </tr>\n",
       "  </thead>\n",
       "  <tbody>\n",
       "    <tr>\n",
       "      <th>1623</th>\n",
       "      <td>1623</td>\n",
       "      <td>AURKB</td>\n",
       "      <td>Amplification</td>\n",
       "      <td>NaN</td>\n",
       "    </tr>\n",
       "  </tbody>\n",
       "</table>\n",
       "</div>"
      ],
      "text/plain": [
       "        ID   Gene      Variation TEXT\n",
       "1623  1623  AURKB  Amplification  NaN"
      ]
     },
     "execution_count": 23,
     "metadata": {},
     "output_type": "execute_result"
    }
   ],
   "source": [
    "df_test[df_test.isnull().any(axis=1)]"
   ]
  },
  {
   "cell_type": "code",
   "execution_count": 24,
   "id": "8bf7c036",
   "metadata": {},
   "outputs": [
    {
     "data": {
      "text/plain": [
       "ID           False\n",
       "Gene         False\n",
       "Variation    False\n",
       "TEXT         False\n",
       "dtype: bool"
      ]
     },
     "execution_count": 24,
     "metadata": {},
     "output_type": "execute_result"
    }
   ],
   "source": [
    "df_test.dropna(subset=['TEXT'], inplace=True)\n",
    "df_test.isnull().any()"
   ]
  },
  {
   "cell_type": "code",
   "execution_count": 25,
   "id": "9fd754c2",
   "metadata": {},
   "outputs": [],
   "source": [
    "merged_df = pd.merge(df_data, df_test, \n",
    "                     on=['ID','Gene', 'Variation','TEXT'], how='outer')"
   ]
  },
  {
   "cell_type": "code",
   "execution_count": 26,
   "id": "a3298aa1",
   "metadata": {},
   "outputs": [
    {
     "data": {
      "text/html": [
       "<div>\n",
       "<style scoped>\n",
       "    .dataframe tbody tr th:only-of-type {\n",
       "        vertical-align: middle;\n",
       "    }\n",
       "\n",
       "    .dataframe tbody tr th {\n",
       "        vertical-align: top;\n",
       "    }\n",
       "\n",
       "    .dataframe thead th {\n",
       "        text-align: right;\n",
       "    }\n",
       "</style>\n",
       "<table border=\"1\" class=\"dataframe\">\n",
       "  <thead>\n",
       "    <tr style=\"text-align: right;\">\n",
       "      <th></th>\n",
       "      <th>ID</th>\n",
       "      <th>Gene</th>\n",
       "      <th>Variation</th>\n",
       "      <th>Class</th>\n",
       "      <th>TEXT</th>\n",
       "    </tr>\n",
       "  </thead>\n",
       "  <tbody>\n",
       "    <tr>\n",
       "      <th>3321</th>\n",
       "      <td>0</td>\n",
       "      <td>ACSL4</td>\n",
       "      <td>R570S</td>\n",
       "      <td>NaN</td>\n",
       "      <td>2 mutation resulted myeloproliferative phenoty...</td>\n",
       "    </tr>\n",
       "    <tr>\n",
       "      <th>3322</th>\n",
       "      <td>1</td>\n",
       "      <td>NAGLU</td>\n",
       "      <td>P521L</td>\n",
       "      <td>NaN</td>\n",
       "      <td>abstract large tumor suppressor 1 lats1 serine...</td>\n",
       "    </tr>\n",
       "    <tr>\n",
       "      <th>3323</th>\n",
       "      <td>2</td>\n",
       "      <td>PAH</td>\n",
       "      <td>L333F</td>\n",
       "      <td>NaN</td>\n",
       "      <td>vascular endothelial growth factor receptor ve...</td>\n",
       "    </tr>\n",
       "    <tr>\n",
       "      <th>3324</th>\n",
       "      <td>3</td>\n",
       "      <td>ING1</td>\n",
       "      <td>A148D</td>\n",
       "      <td>NaN</td>\n",
       "      <td>inflammatory myofibroblastic tumor imt neoplas...</td>\n",
       "    </tr>\n",
       "    <tr>\n",
       "      <th>3325</th>\n",
       "      <td>4</td>\n",
       "      <td>TMEM216</td>\n",
       "      <td>G77A</td>\n",
       "      <td>NaN</td>\n",
       "      <td>abstract retinoblastoma pediatric retinal tumo...</td>\n",
       "    </tr>\n",
       "    <tr>\n",
       "      <th>...</th>\n",
       "      <td>...</td>\n",
       "      <td>...</td>\n",
       "      <td>...</td>\n",
       "      <td>...</td>\n",
       "      <td>...</td>\n",
       "    </tr>\n",
       "    <tr>\n",
       "      <th>8983</th>\n",
       "      <td>5663</td>\n",
       "      <td>SLC46A1</td>\n",
       "      <td>R113S</td>\n",
       "      <td>NaN</td>\n",
       "      <td>realization late 1970s ras harboured transform...</td>\n",
       "    </tr>\n",
       "    <tr>\n",
       "      <th>8984</th>\n",
       "      <td>5664</td>\n",
       "      <td>FOXC1</td>\n",
       "      <td>L130F</td>\n",
       "      <td>NaN</td>\n",
       "      <td>hemizygous deletions common molecular abnormal...</td>\n",
       "    </tr>\n",
       "    <tr>\n",
       "      <th>8985</th>\n",
       "      <td>5665</td>\n",
       "      <td>GSS</td>\n",
       "      <td>R267W</td>\n",
       "      <td>NaN</td>\n",
       "      <td>r267w smartpool investigate 533 experiments 5q...</td>\n",
       "    </tr>\n",
       "    <tr>\n",
       "      <th>8986</th>\n",
       "      <td>5666</td>\n",
       "      <td>CTSK</td>\n",
       "      <td>G79E</td>\n",
       "      <td>NaN</td>\n",
       "      <td>abstract blood samples 125 unrelated families ...</td>\n",
       "    </tr>\n",
       "    <tr>\n",
       "      <th>8987</th>\n",
       "      <td>5667</td>\n",
       "      <td>DFNB59</td>\n",
       "      <td>T54I</td>\n",
       "      <td>NaN</td>\n",
       "      <td>loss dna mismatch repair mmr humans mainly due...</td>\n",
       "    </tr>\n",
       "  </tbody>\n",
       "</table>\n",
       "<p>5667 rows × 5 columns</p>\n",
       "</div>"
      ],
      "text/plain": [
       "        ID     Gene Variation  Class  \\\n",
       "3321     0    ACSL4     R570S    NaN   \n",
       "3322     1    NAGLU     P521L    NaN   \n",
       "3323     2      PAH     L333F    NaN   \n",
       "3324     3     ING1     A148D    NaN   \n",
       "3325     4  TMEM216      G77A    NaN   \n",
       "...    ...      ...       ...    ...   \n",
       "8983  5663  SLC46A1     R113S    NaN   \n",
       "8984  5664    FOXC1     L130F    NaN   \n",
       "8985  5665      GSS     R267W    NaN   \n",
       "8986  5666     CTSK      G79E    NaN   \n",
       "8987  5667   DFNB59      T54I    NaN   \n",
       "\n",
       "                                                   TEXT  \n",
       "3321  2 mutation resulted myeloproliferative phenoty...  \n",
       "3322  abstract large tumor suppressor 1 lats1 serine...  \n",
       "3323  vascular endothelial growth factor receptor ve...  \n",
       "3324  inflammatory myofibroblastic tumor imt neoplas...  \n",
       "3325  abstract retinoblastoma pediatric retinal tumo...  \n",
       "...                                                 ...  \n",
       "8983  realization late 1970s ras harboured transform...  \n",
       "8984  hemizygous deletions common molecular abnormal...  \n",
       "8985  r267w smartpool investigate 533 experiments 5q...  \n",
       "8986  abstract blood samples 125 unrelated families ...  \n",
       "8987  loss dna mismatch repair mmr humans mainly due...  \n",
       "\n",
       "[5667 rows x 5 columns]"
      ]
     },
     "execution_count": 26,
     "metadata": {},
     "output_type": "execute_result"
    }
   ],
   "source": [
    "merged_df[merged_df.isnull().any(axis=1)]"
   ]
  },
  {
   "cell_type": "code",
   "execution_count": 27,
   "id": "1f4e686a",
   "metadata": {},
   "outputs": [
    {
     "data": {
      "text/plain": [
       "ID           False\n",
       "Gene         False\n",
       "Variation    False\n",
       "Class         True\n",
       "TEXT         False\n",
       "dtype: bool"
      ]
     },
     "execution_count": 27,
     "metadata": {},
     "output_type": "execute_result"
    }
   ],
   "source": [
    "merged_df.isnull().any()"
   ]
  },
  {
   "cell_type": "code",
   "execution_count": 28,
   "id": "9e236888",
   "metadata": {},
   "outputs": [
    {
     "name": "stdout",
     "output_type": "stream",
     "text": [
      "5667\n"
     ]
    }
   ],
   "source": [
    "print(merged_df['Class'].isnull().sum())"
   ]
  },
  {
   "cell_type": "code",
   "execution_count": 29,
   "id": "15af747d",
   "metadata": {},
   "outputs": [],
   "source": [
    "class_number = pd.read_csv('stage1_solution_filtered.csv')\n"
   ]
  },
  {
   "cell_type": "code",
   "execution_count": 30,
   "id": "fb05c8d8",
   "metadata": {},
   "outputs": [
    {
     "data": {
      "text/html": [
       "<div>\n",
       "<style scoped>\n",
       "    .dataframe tbody tr th:only-of-type {\n",
       "        vertical-align: middle;\n",
       "    }\n",
       "\n",
       "    .dataframe tbody tr th {\n",
       "        vertical-align: top;\n",
       "    }\n",
       "\n",
       "    .dataframe thead th {\n",
       "        text-align: right;\n",
       "    }\n",
       "</style>\n",
       "<table border=\"1\" class=\"dataframe\">\n",
       "  <thead>\n",
       "    <tr style=\"text-align: right;\">\n",
       "      <th></th>\n",
       "      <th>ID</th>\n",
       "      <th>class1</th>\n",
       "      <th>class2</th>\n",
       "      <th>class3</th>\n",
       "      <th>class4</th>\n",
       "      <th>class5</th>\n",
       "      <th>class6</th>\n",
       "      <th>class7</th>\n",
       "      <th>class8</th>\n",
       "      <th>class9</th>\n",
       "    </tr>\n",
       "  </thead>\n",
       "  <tbody>\n",
       "    <tr>\n",
       "      <th>0</th>\n",
       "      <td>12</td>\n",
       "      <td>1</td>\n",
       "      <td>0</td>\n",
       "      <td>0</td>\n",
       "      <td>0</td>\n",
       "      <td>0</td>\n",
       "      <td>0</td>\n",
       "      <td>0</td>\n",
       "      <td>0</td>\n",
       "      <td>0</td>\n",
       "    </tr>\n",
       "    <tr>\n",
       "      <th>1</th>\n",
       "      <td>19</td>\n",
       "      <td>0</td>\n",
       "      <td>1</td>\n",
       "      <td>0</td>\n",
       "      <td>0</td>\n",
       "      <td>0</td>\n",
       "      <td>0</td>\n",
       "      <td>0</td>\n",
       "      <td>0</td>\n",
       "      <td>0</td>\n",
       "    </tr>\n",
       "    <tr>\n",
       "      <th>2</th>\n",
       "      <td>21</td>\n",
       "      <td>0</td>\n",
       "      <td>1</td>\n",
       "      <td>0</td>\n",
       "      <td>0</td>\n",
       "      <td>0</td>\n",
       "      <td>0</td>\n",
       "      <td>0</td>\n",
       "      <td>0</td>\n",
       "      <td>0</td>\n",
       "    </tr>\n",
       "    <tr>\n",
       "      <th>3</th>\n",
       "      <td>55</td>\n",
       "      <td>0</td>\n",
       "      <td>0</td>\n",
       "      <td>0</td>\n",
       "      <td>1</td>\n",
       "      <td>0</td>\n",
       "      <td>0</td>\n",
       "      <td>0</td>\n",
       "      <td>0</td>\n",
       "      <td>0</td>\n",
       "    </tr>\n",
       "    <tr>\n",
       "      <th>4</th>\n",
       "      <td>64</td>\n",
       "      <td>0</td>\n",
       "      <td>0</td>\n",
       "      <td>0</td>\n",
       "      <td>1</td>\n",
       "      <td>0</td>\n",
       "      <td>0</td>\n",
       "      <td>0</td>\n",
       "      <td>0</td>\n",
       "      <td>0</td>\n",
       "    </tr>\n",
       "  </tbody>\n",
       "</table>\n",
       "</div>"
      ],
      "text/plain": [
       "   ID  class1  class2  class3  class4  class5  class6  class7  class8  class9\n",
       "0  12       1       0       0       0       0       0       0       0       0\n",
       "1  19       0       1       0       0       0       0       0       0       0\n",
       "2  21       0       1       0       0       0       0       0       0       0\n",
       "3  55       0       0       0       1       0       0       0       0       0\n",
       "4  64       0       0       0       1       0       0       0       0       0"
      ]
     },
     "execution_count": 30,
     "metadata": {},
     "output_type": "execute_result"
    }
   ],
   "source": [
    "class_number.head()"
   ]
  },
  {
   "cell_type": "code",
   "execution_count": 31,
   "id": "52709e92",
   "metadata": {},
   "outputs": [],
   "source": [
    "one_hot_columns = ['class1','class2','class3','class4','class5','class6','class7','class8','class9']"
   ]
  },
  {
   "cell_type": "code",
   "execution_count": 32,
   "id": "3443c4f6",
   "metadata": {},
   "outputs": [],
   "source": [
    "#decoding\n",
    "class_number['Class']=class_number[one_hot_columns].idxmax(axis=1)"
   ]
  },
  {
   "cell_type": "code",
   "execution_count": 33,
   "id": "da9ed04d",
   "metadata": {},
   "outputs": [],
   "source": [
    "category_mapping={'class1':1,'class2':2,'class3':3,'class4':4,'class5':5,'class6':6,'class7':7,'class8':8,'class9':9}"
   ]
  },
  {
   "cell_type": "code",
   "execution_count": 34,
   "id": "479c2666",
   "metadata": {},
   "outputs": [],
   "source": [
    "#format to numeric\n",
    "class_number['Class']=class_number['Class'].map(category_mapping)"
   ]
  },
  {
   "cell_type": "code",
   "execution_count": 35,
   "id": "92a66be6",
   "metadata": {},
   "outputs": [
    {
     "data": {
      "text/html": [
       "<div>\n",
       "<style scoped>\n",
       "    .dataframe tbody tr th:only-of-type {\n",
       "        vertical-align: middle;\n",
       "    }\n",
       "\n",
       "    .dataframe tbody tr th {\n",
       "        vertical-align: top;\n",
       "    }\n",
       "\n",
       "    .dataframe thead th {\n",
       "        text-align: right;\n",
       "    }\n",
       "</style>\n",
       "<table border=\"1\" class=\"dataframe\">\n",
       "  <thead>\n",
       "    <tr style=\"text-align: right;\">\n",
       "      <th></th>\n",
       "      <th>ID</th>\n",
       "      <th>class1</th>\n",
       "      <th>class2</th>\n",
       "      <th>class3</th>\n",
       "      <th>class4</th>\n",
       "      <th>class5</th>\n",
       "      <th>class6</th>\n",
       "      <th>class7</th>\n",
       "      <th>class8</th>\n",
       "      <th>class9</th>\n",
       "      <th>Class</th>\n",
       "    </tr>\n",
       "  </thead>\n",
       "  <tbody>\n",
       "    <tr>\n",
       "      <th>0</th>\n",
       "      <td>12</td>\n",
       "      <td>1</td>\n",
       "      <td>0</td>\n",
       "      <td>0</td>\n",
       "      <td>0</td>\n",
       "      <td>0</td>\n",
       "      <td>0</td>\n",
       "      <td>0</td>\n",
       "      <td>0</td>\n",
       "      <td>0</td>\n",
       "      <td>1</td>\n",
       "    </tr>\n",
       "    <tr>\n",
       "      <th>1</th>\n",
       "      <td>19</td>\n",
       "      <td>0</td>\n",
       "      <td>1</td>\n",
       "      <td>0</td>\n",
       "      <td>0</td>\n",
       "      <td>0</td>\n",
       "      <td>0</td>\n",
       "      <td>0</td>\n",
       "      <td>0</td>\n",
       "      <td>0</td>\n",
       "      <td>2</td>\n",
       "    </tr>\n",
       "    <tr>\n",
       "      <th>2</th>\n",
       "      <td>21</td>\n",
       "      <td>0</td>\n",
       "      <td>1</td>\n",
       "      <td>0</td>\n",
       "      <td>0</td>\n",
       "      <td>0</td>\n",
       "      <td>0</td>\n",
       "      <td>0</td>\n",
       "      <td>0</td>\n",
       "      <td>0</td>\n",
       "      <td>2</td>\n",
       "    </tr>\n",
       "    <tr>\n",
       "      <th>3</th>\n",
       "      <td>55</td>\n",
       "      <td>0</td>\n",
       "      <td>0</td>\n",
       "      <td>0</td>\n",
       "      <td>1</td>\n",
       "      <td>0</td>\n",
       "      <td>0</td>\n",
       "      <td>0</td>\n",
       "      <td>0</td>\n",
       "      <td>0</td>\n",
       "      <td>4</td>\n",
       "    </tr>\n",
       "    <tr>\n",
       "      <th>4</th>\n",
       "      <td>64</td>\n",
       "      <td>0</td>\n",
       "      <td>0</td>\n",
       "      <td>0</td>\n",
       "      <td>1</td>\n",
       "      <td>0</td>\n",
       "      <td>0</td>\n",
       "      <td>0</td>\n",
       "      <td>0</td>\n",
       "      <td>0</td>\n",
       "      <td>4</td>\n",
       "    </tr>\n",
       "  </tbody>\n",
       "</table>\n",
       "</div>"
      ],
      "text/plain": [
       "   ID  class1  class2  class3  class4  class5  class6  class7  class8  class9  \\\n",
       "0  12       1       0       0       0       0       0       0       0       0   \n",
       "1  19       0       1       0       0       0       0       0       0       0   \n",
       "2  21       0       1       0       0       0       0       0       0       0   \n",
       "3  55       0       0       0       1       0       0       0       0       0   \n",
       "4  64       0       0       0       1       0       0       0       0       0   \n",
       "\n",
       "   Class  \n",
       "0      1  \n",
       "1      2  \n",
       "2      2  \n",
       "3      4  \n",
       "4      4  "
      ]
     },
     "execution_count": 35,
     "metadata": {},
     "output_type": "execute_result"
    }
   ],
   "source": [
    "class_number.head()"
   ]
  },
  {
   "cell_type": "code",
   "execution_count": 36,
   "id": "9e704043",
   "metadata": {},
   "outputs": [],
   "source": [
    "drop_colunms=['class1','class2','class3','class4','class5','class6','class7','class8','class9']"
   ]
  },
  {
   "cell_type": "code",
   "execution_count": 37,
   "id": "90a10b6d",
   "metadata": {},
   "outputs": [],
   "source": [
    "class_number=class_number.drop(columns=drop_colunms)"
   ]
  },
  {
   "cell_type": "code",
   "execution_count": 38,
   "id": "591130b8",
   "metadata": {},
   "outputs": [
    {
     "data": {
      "text/html": [
       "<div>\n",
       "<style scoped>\n",
       "    .dataframe tbody tr th:only-of-type {\n",
       "        vertical-align: middle;\n",
       "    }\n",
       "\n",
       "    .dataframe tbody tr th {\n",
       "        vertical-align: top;\n",
       "    }\n",
       "\n",
       "    .dataframe thead th {\n",
       "        text-align: right;\n",
       "    }\n",
       "</style>\n",
       "<table border=\"1\" class=\"dataframe\">\n",
       "  <thead>\n",
       "    <tr style=\"text-align: right;\">\n",
       "      <th></th>\n",
       "      <th>ID</th>\n",
       "      <th>Class</th>\n",
       "    </tr>\n",
       "  </thead>\n",
       "  <tbody>\n",
       "    <tr>\n",
       "      <th>0</th>\n",
       "      <td>12</td>\n",
       "      <td>1</td>\n",
       "    </tr>\n",
       "    <tr>\n",
       "      <th>1</th>\n",
       "      <td>19</td>\n",
       "      <td>2</td>\n",
       "    </tr>\n",
       "    <tr>\n",
       "      <th>2</th>\n",
       "      <td>21</td>\n",
       "      <td>2</td>\n",
       "    </tr>\n",
       "    <tr>\n",
       "      <th>3</th>\n",
       "      <td>55</td>\n",
       "      <td>4</td>\n",
       "    </tr>\n",
       "    <tr>\n",
       "      <th>4</th>\n",
       "      <td>64</td>\n",
       "      <td>4</td>\n",
       "    </tr>\n",
       "  </tbody>\n",
       "</table>\n",
       "</div>"
      ],
      "text/plain": [
       "   ID  Class\n",
       "0  12      1\n",
       "1  19      2\n",
       "2  21      2\n",
       "3  55      4\n",
       "4  64      4"
      ]
     },
     "execution_count": 38,
     "metadata": {},
     "output_type": "execute_result"
    }
   ],
   "source": [
    "class_number.head()"
   ]
  },
  {
   "cell_type": "code",
   "execution_count": 39,
   "id": "993f29ee",
   "metadata": {},
   "outputs": [
    {
     "name": "stdout",
     "output_type": "stream",
     "text": [
      "No of points in data:  368\n",
      "No of features:  2\n",
      "Name of features:  ['ID' 'Class']\n"
     ]
    }
   ],
   "source": [
    "print('No of points in data: ', class_number.shape[0])\n",
    "print('No of features: ', class_number.shape[1])\n",
    "print(\"Name of features: \", class_number.columns.values)"
   ]
  },
  {
   "cell_type": "code",
   "execution_count": 40,
   "id": "c2105e8b",
   "metadata": {},
   "outputs": [],
   "source": [
    "class_number['Gene'] = np.nan\n",
    "class_number['Variation'] = np.nan\n",
    "class_number['TEXT'] = np.nan\n",
    "\n",
    "# Step 3: Write the DataFrame back to the CSV file\n",
    "class_number.to_csv('updated_class_number.csv', index=False)"
   ]
  },
  {
   "cell_type": "code",
   "execution_count": 41,
   "id": "1d17265f",
   "metadata": {},
   "outputs": [],
   "source": [
    "updatedClassNumber = pd.read_csv('updated_class_number.csv')"
   ]
  },
  {
   "cell_type": "code",
   "execution_count": 42,
   "id": "78bfb90e",
   "metadata": {},
   "outputs": [
    {
     "data": {
      "text/html": [
       "<div>\n",
       "<style scoped>\n",
       "    .dataframe tbody tr th:only-of-type {\n",
       "        vertical-align: middle;\n",
       "    }\n",
       "\n",
       "    .dataframe tbody tr th {\n",
       "        vertical-align: top;\n",
       "    }\n",
       "\n",
       "    .dataframe thead th {\n",
       "        text-align: right;\n",
       "    }\n",
       "</style>\n",
       "<table border=\"1\" class=\"dataframe\">\n",
       "  <thead>\n",
       "    <tr style=\"text-align: right;\">\n",
       "      <th></th>\n",
       "      <th>ID</th>\n",
       "      <th>Class</th>\n",
       "      <th>Gene</th>\n",
       "      <th>Variation</th>\n",
       "      <th>TEXT</th>\n",
       "    </tr>\n",
       "  </thead>\n",
       "  <tbody>\n",
       "    <tr>\n",
       "      <th>0</th>\n",
       "      <td>12</td>\n",
       "      <td>1</td>\n",
       "      <td>NaN</td>\n",
       "      <td>NaN</td>\n",
       "      <td>NaN</td>\n",
       "    </tr>\n",
       "    <tr>\n",
       "      <th>1</th>\n",
       "      <td>19</td>\n",
       "      <td>2</td>\n",
       "      <td>NaN</td>\n",
       "      <td>NaN</td>\n",
       "      <td>NaN</td>\n",
       "    </tr>\n",
       "    <tr>\n",
       "      <th>2</th>\n",
       "      <td>21</td>\n",
       "      <td>2</td>\n",
       "      <td>NaN</td>\n",
       "      <td>NaN</td>\n",
       "      <td>NaN</td>\n",
       "    </tr>\n",
       "    <tr>\n",
       "      <th>3</th>\n",
       "      <td>55</td>\n",
       "      <td>4</td>\n",
       "      <td>NaN</td>\n",
       "      <td>NaN</td>\n",
       "      <td>NaN</td>\n",
       "    </tr>\n",
       "    <tr>\n",
       "      <th>4</th>\n",
       "      <td>64</td>\n",
       "      <td>4</td>\n",
       "      <td>NaN</td>\n",
       "      <td>NaN</td>\n",
       "      <td>NaN</td>\n",
       "    </tr>\n",
       "  </tbody>\n",
       "</table>\n",
       "</div>"
      ],
      "text/plain": [
       "   ID  Class  Gene  Variation  TEXT\n",
       "0  12      1   NaN        NaN   NaN\n",
       "1  19      2   NaN        NaN   NaN\n",
       "2  21      2   NaN        NaN   NaN\n",
       "3  55      4   NaN        NaN   NaN\n",
       "4  64      4   NaN        NaN   NaN"
      ]
     },
     "execution_count": 42,
     "metadata": {},
     "output_type": "execute_result"
    }
   ],
   "source": [
    "updatedClassNumber.head()"
   ]
  },
  {
   "cell_type": "code",
   "execution_count": 43,
   "id": "cfddf68f",
   "metadata": {},
   "outputs": [
    {
     "name": "stdout",
     "output_type": "stream",
     "text": [
      "Gene         368\n",
      "Variation    368\n",
      "TEXT         368\n",
      "dtype: int64\n"
     ]
    }
   ],
   "source": [
    "print(updatedClassNumber[['Gene', 'Variation', 'TEXT']].isnull().sum())"
   ]
  },
  {
   "cell_type": "code",
   "execution_count": 44,
   "id": "1772ddb7",
   "metadata": {},
   "outputs": [],
   "source": [
    "updatedClassNumber['Gene'] = updatedClassNumber['Gene'].fillna('')\n",
    "updatedClassNumber['Variation'] = updatedClassNumber['Variation'].fillna('')\n",
    "updatedClassNumber['TEXT'] = updatedClassNumber['TEXT'].fillna('')"
   ]
  },
  {
   "cell_type": "code",
   "execution_count": 45,
   "id": "15d0761e",
   "metadata": {},
   "outputs": [],
   "source": [
    "updatedClassNumber['Gene'] = updatedClassNumber['Gene'].astype(str)\n",
    "updatedClassNumber['Variation'] = updatedClassNumber['Variation'].astype(str)\n",
    "updatedClassNumber['TEXT'] = updatedClassNumber['TEXT'].astype(str)"
   ]
  },
  {
   "cell_type": "code",
   "execution_count": 46,
   "id": "75404c77",
   "metadata": {},
   "outputs": [],
   "source": [
    "final_data = pd.merge(merged_df, updatedClassNumber, \n",
    "                     on=['ID','Class','Gene','Variation','TEXT'], how='outer')"
   ]
  },
  {
   "cell_type": "code",
   "execution_count": 47,
   "id": "7fcfeb88",
   "metadata": {},
   "outputs": [],
   "source": [
    "final_data['Class'] = final_data['Class'].replace('nan', pd.NA)\n",
    "\n",
    "# Convert 'Class' column to numeric data type\n",
    "final_data['Class'] = pd.to_numeric(final_data['Class'], errors='coerce')\n",
    "\n",
    "# Convert 'Class' column to integers\n",
    "final_data['Class'] = final_data['Class'].astype('Int64')\n",
    "\n",
    "# Drop rows with NaN values in the 'Class' column\n",
    "# final_data.dropna(subset=['Class'], inplace=True)"
   ]
  },
  {
   "cell_type": "code",
   "execution_count": 48,
   "id": "35981fb3",
   "metadata": {
    "scrolled": true
   },
   "outputs": [
    {
     "data": {
      "text/html": [
       "<div>\n",
       "<style scoped>\n",
       "    .dataframe tbody tr th:only-of-type {\n",
       "        vertical-align: middle;\n",
       "    }\n",
       "\n",
       "    .dataframe tbody tr th {\n",
       "        vertical-align: top;\n",
       "    }\n",
       "\n",
       "    .dataframe thead th {\n",
       "        text-align: right;\n",
       "    }\n",
       "</style>\n",
       "<table border=\"1\" class=\"dataframe\">\n",
       "  <thead>\n",
       "    <tr style=\"text-align: right;\">\n",
       "      <th></th>\n",
       "      <th>ID</th>\n",
       "      <th>Gene</th>\n",
       "      <th>Variation</th>\n",
       "      <th>Class</th>\n",
       "      <th>TEXT</th>\n",
       "    </tr>\n",
       "  </thead>\n",
       "  <tbody>\n",
       "    <tr>\n",
       "      <th>0</th>\n",
       "      <td>0</td>\n",
       "      <td>FAM58A</td>\n",
       "      <td>Truncating Mutations</td>\n",
       "      <td>1</td>\n",
       "      <td>cyclin dependent kinases cdks regulate variety...</td>\n",
       "    </tr>\n",
       "    <tr>\n",
       "      <th>1</th>\n",
       "      <td>1</td>\n",
       "      <td>CBL</td>\n",
       "      <td>W802*</td>\n",
       "      <td>2</td>\n",
       "      <td>abstract background non small cell lung cancer...</td>\n",
       "    </tr>\n",
       "    <tr>\n",
       "      <th>2</th>\n",
       "      <td>2</td>\n",
       "      <td>CBL</td>\n",
       "      <td>Q249E</td>\n",
       "      <td>2</td>\n",
       "      <td>abstract background non small cell lung cancer...</td>\n",
       "    </tr>\n",
       "    <tr>\n",
       "      <th>3</th>\n",
       "      <td>3</td>\n",
       "      <td>CBL</td>\n",
       "      <td>N454D</td>\n",
       "      <td>3</td>\n",
       "      <td>recent evidence demonstrated acquired uniparen...</td>\n",
       "    </tr>\n",
       "    <tr>\n",
       "      <th>4</th>\n",
       "      <td>4</td>\n",
       "      <td>CBL</td>\n",
       "      <td>L399V</td>\n",
       "      <td>4</td>\n",
       "      <td>oncogenic mutations monomeric casitas b lineag...</td>\n",
       "    </tr>\n",
       "  </tbody>\n",
       "</table>\n",
       "</div>"
      ],
      "text/plain": [
       "   ID    Gene             Variation  Class  \\\n",
       "0   0  FAM58A  Truncating Mutations      1   \n",
       "1   1     CBL                 W802*      2   \n",
       "2   2     CBL                 Q249E      2   \n",
       "3   3     CBL                 N454D      3   \n",
       "4   4     CBL                 L399V      4   \n",
       "\n",
       "                                                TEXT  \n",
       "0  cyclin dependent kinases cdks regulate variety...  \n",
       "1  abstract background non small cell lung cancer...  \n",
       "2  abstract background non small cell lung cancer...  \n",
       "3  recent evidence demonstrated acquired uniparen...  \n",
       "4  oncogenic mutations monomeric casitas b lineag...  "
      ]
     },
     "execution_count": 48,
     "metadata": {},
     "output_type": "execute_result"
    }
   ],
   "source": [
    "final_data.head()"
   ]
  },
  {
   "cell_type": "code",
   "execution_count": 49,
   "id": "5a82cba5",
   "metadata": {},
   "outputs": [],
   "source": [
    "median_class = final_data['Class'].mode()\n",
    "from sklearn.impute import KNNImputer\n",
    "\n",
    "imputer = KNNImputer(n_neighbors=1)\n",
    "final_data['Class'] = imputer.fit_transform(final_data[['Class']]).ravel()"
   ]
  },
  {
   "cell_type": "code",
   "execution_count": 50,
   "id": "6f266616",
   "metadata": {},
   "outputs": [
    {
     "name": "stdout",
     "output_type": "stream",
     "text": [
      "Class    0\n",
      "dtype: int64\n"
     ]
    }
   ],
   "source": [
    "print(final_data[['Class']].isnull().sum())"
   ]
  },
  {
   "cell_type": "code",
   "execution_count": 51,
   "id": "7e7df0f8",
   "metadata": {},
   "outputs": [
    {
     "data": {
      "text/plain": [
       "ID           False\n",
       "Gene         False\n",
       "Variation    False\n",
       "Class        False\n",
       "TEXT         False\n",
       "dtype: bool"
      ]
     },
     "execution_count": 51,
     "metadata": {},
     "output_type": "execute_result"
    }
   ],
   "source": [
    "final_data.isnull().any()"
   ]
  },
  {
   "cell_type": "code",
   "execution_count": 52,
   "id": "d063fb2d",
   "metadata": {},
   "outputs": [
    {
     "name": "stdout",
     "output_type": "stream",
     "text": [
      "No of points in data:  9356\n",
      "No of features:  5\n",
      "Name of features:  ['ID' 'Gene' 'Variation' 'Class' 'TEXT']\n"
     ]
    }
   ],
   "source": [
    "print('No of points in data: ', final_data.shape[0])\n",
    "print('No of features: ', final_data.shape[1])\n",
    "print(\"Name of features: \", final_data.columns.values)"
   ]
  },
  {
   "cell_type": "code",
   "execution_count": 53,
   "id": "b3de854e",
   "metadata": {},
   "outputs": [],
   "source": [
    "import pandas as pd\n",
    "\n",
    "# Assuming your target variable is in a DataFrame column named 'count'\n",
    "final_data['Class'] = final_data['Class'].round().astype(int)\n",
    "\n",
    "bins = [-float('inf'), 1, 2, 3, 4, 5, 6, 7, 8, 9, float('inf')]\n",
    "labels = [1, 2, 3, 4, 5, 6, 7, 8, 9, 10]\n",
    "final_data['Class'] = pd.cut(final_data['Class'], bins=bins, labels=labels, include_lowest=True, right=False).astype(int)\n"
   ]
  },
  {
   "cell_type": "code",
   "execution_count": 54,
   "id": "f3c5054f",
   "metadata": {},
   "outputs": [
    {
     "name": "stdout",
     "output_type": "stream",
     "text": [
      "int32\n",
      "0    2\n",
      "1    3\n",
      "2    3\n",
      "3    4\n",
      "4    5\n",
      "Name: Class, dtype: int32\n"
     ]
    }
   ],
   "source": [
    "print(final_data['Class'].dtype)\n",
    "print(final_data['Class'].head())"
   ]
  },
  {
   "cell_type": "code",
   "execution_count": 55,
   "id": "940f23af",
   "metadata": {},
   "outputs": [
    {
     "data": {
      "image/png": "[encoded data removed]",
      "text/plain": [
       "<Figure size 1000x600 with 1 Axes>"
      ]
     },
     "metadata": {},
     "output_type": "display_data"
    },
    {
     "name": "stdout",
     "output_type": "stream",
     "text": [
      "Class Distribution:\n",
      "5     6418\n",
      "8     1054\n",
      "2      662\n",
      "3      498\n",
      "7      297\n",
      "6      267\n",
      "4       96\n",
      "10      43\n",
      "9       21\n",
      "Name: Class, dtype: int64\n"
     ]
    }
   ],
   "source": [
    "# Assuming 'final_data' is your DataFrame\n",
    "class_distribution = final_data['Class'].value_counts()\n",
    "\n",
    "# Plot the distribution\n",
    "plt.figure(figsize=(10, 6))\n",
    "sns.barplot(x=class_distribution.index, y=class_distribution.values, palette='viridis')\n",
    "plt.title('Class Distribution')\n",
    "plt.xlabel('Class')\n",
    "plt.ylabel('Count')\n",
    "plt.show()\n",
    "\n",
    "print(\"Class Distribution:\")\n",
    "print(class_distribution)"
   ]
  },
  {
   "cell_type": "code",
   "execution_count": 56,
   "id": "4a1b84be",
   "metadata": {},
   "outputs": [],
   "source": [
    "X = final_data.drop(columns=['Class'])\n",
    "y = final_data['Class']"
   ]
  },
  {
   "cell_type": "code",
   "execution_count": 57,
   "id": "c1525008",
   "metadata": {},
   "outputs": [],
   "source": [
    "# Split the data into training and testing sets\n",
    "from sklearn.model_selection import train_test_split\n",
    "df_data.gene = df_data.Gene.str.replace('\\s+', '_')\n",
    "df_data.variation = df_data.Variation.str.replace('\\s+', '_')\n",
    "\n",
    "X_train, X_test, y_train, y_test = train_test_split(X, y, test_size=0.3, random_state=42)"
   ]
  },
  {
   "cell_type": "code",
   "execution_count": 58,
   "id": "cfb30e5d",
   "metadata": {},
   "outputs": [
    {
     "name": "stdout",
     "output_type": "stream",
     "text": [
      "Number of unique values:  1331\n",
      "         248\n",
      "BRCA1    209\n",
      "TP53     124\n",
      "EGFR     111\n",
      "F8       100\n",
      "Name: Gene, dtype: int64\n"
     ]
    }
   ],
   "source": [
    "# unvariant analysis\n",
    "# gene\n",
    "unique_genes = X_train['Gene'].value_counts()\n",
    "print(\"Number of unique values: \", unique_genes.shape[0])\n",
    "print(unique_genes.head())"
   ]
  },
  {
   "cell_type": "code",
   "execution_count": 59,
   "id": "e0cf2eb3",
   "metadata": {},
   "outputs": [
    {
     "data": {
      "image/png": "[encoded data removed]",
      "text/plain": [
       "<Figure size 640x480 with 1 Axes>"
      ]
     },
     "metadata": {},
     "output_type": "display_data"
    }
   ],
   "source": [
    "s = sum(unique_genes.values)\n",
    "h = unique_genes.values/s\n",
    "plt.plot(h, label = \"Histogram of genes\")\n",
    "plt.xlabel(\"Index of Gene\")\n",
    "plt.ylabel(\"Number of occurence\")\n",
    "plt.legend()\n",
    "plt.grid()\n",
    "plt.show()"
   ]
  },
  {
   "cell_type": "code",
   "execution_count": 60,
   "id": "3fc3d7b0",
   "metadata": {},
   "outputs": [
    {
     "data": {
      "image/png": "[encoded data removed]",
      "text/plain": [
       "<Figure size 640x480 with 1 Axes>"
      ]
     },
     "metadata": {},
     "output_type": "display_data"
    }
   ],
   "source": [
    "c= np.cumsum(h)\n",
    "plt.plot(c, label = 'Cumulative distributaion of Genes')\n",
    "plt.grid()\n",
    "plt.legend()\n",
    "plt.show()"
   ]
  },
  {
   "cell_type": "code",
   "execution_count": 61,
   "id": "1fc62d04",
   "metadata": {},
   "outputs": [
    {
     "data": {
      "text/plain": [
       "8063    MED13L\n",
       "5314       ARX\n",
       "3181      AKT3\n",
       "4950      TP53\n",
       "1755      IDH1\n",
       "Name: Gene, dtype: object"
      ]
     },
     "execution_count": 61,
     "metadata": {},
     "output_type": "execute_result"
    }
   ],
   "source": [
    "# #one hot encoding of gene feature\n",
    "gene_vectorizer = CountVectorizer()\n",
    "train_gene_feature_onehotCoding = gene_vectorizer.fit_transform(X_train['Gene'])\n",
    "test_gene_feature_onehotCoding = gene_vectorizer.transform(X_test['Gene'])\n",
    "\n",
    "X_train['Gene'].head()"
   ]
  },
  {
   "cell_type": "code",
   "execution_count": 62,
   "id": "1640ed18",
   "metadata": {},
   "outputs": [
    {
     "data": {
      "text/plain": [
       "['geneVectorizer.pkl']"
      ]
     },
     "execution_count": 62,
     "metadata": {},
     "output_type": "execute_result"
    }
   ],
   "source": [
    "import joblib\n",
    "joblib.dump(train_gene_feature_onehotCoding, 'geneVectorizer.pkl')"
   ]
  },
  {
   "cell_type": "code",
   "execution_count": 63,
   "id": "dff114d0",
   "metadata": {},
   "outputs": [
    {
     "data": {
      "text/plain": [
       "1327"
      ]
     },
     "execution_count": 63,
     "metadata": {},
     "output_type": "execute_result"
    }
   ],
   "source": [
    "len(gene_vectorizer. get_feature_names_out() )"
   ]
  },
  {
   "cell_type": "code",
   "execution_count": 64,
   "id": "877f85e3",
   "metadata": {},
   "outputs": [
    {
     "name": "stdout",
     "output_type": "stream",
     "text": [
      "train_gene_feature_onehotCoding is converted feature using one-hot encoding method. The shape of gene feature: (6549, 1327)\n"
     ]
    }
   ],
   "source": [
    "print(\"train_gene_feature_onehotCoding is converted feature using one-hot encoding method. The shape of gene feature:\", \n",
    "                                              train_gene_feature_onehotCoding.shape)"
   ]
  },
  {
   "cell_type": "code",
   "execution_count": 65,
   "id": "e0945e25",
   "metadata": {},
   "outputs": [
    {
     "name": "stdout",
     "output_type": "stream",
     "text": [
      "Number of unique Variation:  6059\n"
     ]
    }
   ],
   "source": [
    "# variation feature\n",
    "unique_variations = X_train['Variation'].value_counts()\n",
    "print(\"Number of unique Variation: \", unique_variations.shape[0])"
   ]
  },
  {
   "cell_type": "code",
   "execution_count": 66,
   "id": "c0c08c1d",
   "metadata": {},
   "outputs": [
    {
     "data": {
      "text/plain": [
       "                        248\n",
       "Truncating Mutations     74\n",
       "Deletion                 57\n",
       "Amplification            56\n",
       "Fusions                  24\n",
       "Name: Variation, dtype: int64"
      ]
     },
     "execution_count": 66,
     "metadata": {},
     "output_type": "execute_result"
    }
   ],
   "source": [
    "unique_variations.head()"
   ]
  },
  {
   "cell_type": "code",
   "execution_count": 67,
   "id": "9c1af40f",
   "metadata": {},
   "outputs": [
    {
     "data": {
      "image/png": "[encoded data removed]",
      "text/plain": [
       "<Figure size 640x480 with 1 Axes>"
      ]
     },
     "metadata": {},
     "output_type": "display_data"
    }
   ],
   "source": [
    "s = sum(unique_variations.values);\n",
    "h = unique_variations.values/s;\n",
    "plt.plot(h, label=\"Histrogram of Variations\")\n",
    "plt.xlabel('Index of a Variation')\n",
    "plt.ylabel('Number of Occurances')\n",
    "plt.legend()\n",
    "plt.grid()\n",
    "plt.show()"
   ]
  },
  {
   "cell_type": "code",
   "execution_count": 68,
   "id": "3081f879",
   "metadata": {},
   "outputs": [
    {
     "name": "stdout",
     "output_type": "stream",
     "text": [
      "[0.03786838 0.04916781 0.05787143 ... 0.99969461 0.9998473  1.        ]\n"
     ]
    },
    {
     "data": {
      "image/png": "[encoded data removed]",
      "text/plain": [
       "<Figure size 640x480 with 1 Axes>"
      ]
     },
     "metadata": {},
     "output_type": "display_data"
    }
   ],
   "source": [
    "c = np.cumsum(h)\n",
    "print(c)\n",
    "plt.plot(c,label='Cumulative distribution of Variations')\n",
    "plt.grid()\n",
    "plt.legend()\n",
    "plt.show()"
   ]
  },
  {
   "cell_type": "code",
   "execution_count": 69,
   "id": "9d4db758",
   "metadata": {},
   "outputs": [
    {
     "name": "stdout",
     "output_type": "stream",
     "text": [
      "train_variation_feature_onehotEncoded is converted feature using the onne-hot encoding method. The shape of Variation feature: (6549, 6091)\n"
     ]
    }
   ],
   "source": [
    "variation_vectorizer = CountVectorizer()\n",
    "train_variation_feature_onehotCoding = variation_vectorizer.fit_transform(X_train['Variation'])\n",
    "test_variation_feature_onehotCoding = variation_vectorizer.transform(X_test['Variation'])\n",
    "\n",
    "print(\"train_variation_feature_onehotEncoded is converted feature using the onne-hot encoding method. The shape of Variation feature:\",\n",
    "      train_variation_feature_onehotCoding.shape)"
   ]
  },
  {
   "cell_type": "code",
   "execution_count": 70,
   "id": "d2e99a5d",
   "metadata": {},
   "outputs": [
    {
     "data": {
      "text/plain": [
       "['variationVectorizer.pkl']"
      ]
     },
     "execution_count": 70,
     "metadata": {},
     "output_type": "execute_result"
    }
   ],
   "source": [
    "import joblib\n",
    "joblib.dump(train_variation_feature_onehotCoding, 'variationVectorizer.pkl')"
   ]
  },
  {
   "cell_type": "code",
   "execution_count": 71,
   "id": "06054401",
   "metadata": {},
   "outputs": [],
   "source": [
    "#on text feature\n",
    "import collections\n",
    "def extract_dictionary_paddle(cls_text):\n",
    "    dictionary = collections.defaultdict(int)\n",
    "    for index, row in cls_text.iterrows():\n",
    "        for word in row['TEXT'].split():\n",
    "            dictionary[word] +=1\n",
    "    return dictionary"
   ]
  },
  {
   "cell_type": "code",
   "execution_count": 72,
   "id": "8d25e47e",
   "metadata": {},
   "outputs": [
    {
     "name": "stdout",
     "output_type": "stream",
     "text": [
      "Total number of unique words in train data : 133169\n"
     ]
    }
   ],
   "source": [
    "text_vectorizer = CountVectorizer(min_df=3)\n",
    "train_text_feature_onehotCoding = text_vectorizer.fit_transform(X_train['TEXT'])\n",
    "# getting all the feature names (words)\n",
    "train_text_features= text_vectorizer.get_feature_names_out()\n",
    "\n",
    "# train_text_feature_onehotCoding.sum(axis=0).A1 will sum every row and returns (1*number of features) vector\n",
    "train_text_fea_counts = train_text_feature_onehotCoding.sum(axis=0).A1\n",
    "\n",
    "# zip(list(text_features),text_fea_counts) will zip a word with its number of times it occured\n",
    "text_fea_dict = dict(zip(list(train_text_features),train_text_fea_counts))\n",
    "\n",
    "\n",
    "print(\"Total number of unique words in train data :\", len(train_text_features))"
   ]
  },
  {
   "cell_type": "code",
   "execution_count": 73,
   "id": "9eff77a5",
   "metadata": {},
   "outputs": [],
   "source": [
    "dict_list = []\n",
    "# dict_list =[] contains 9 dictoinaries each corresponds to a class\n",
    "for i in range(1,10):\n",
    "    cls_text =final_data[final_data['Class']==i]\n",
    "    # build a word dict based on the words in that class\n",
    "    dict_list.append(extract_dictionary_paddle(cls_text))\n",
    "    # append it to dict_list\n",
    "\n",
    "# dict_list[i] is build on i'th  class text data\n",
    "# total_dict is buid on whole training text data\n",
    "total_dict = extract_dictionary_paddle(df_data)\n",
    "\n",
    "\n",
    "confuse_array = []\n",
    "for i in train_text_features:\n",
    "    ratios = []\n",
    "    max_val = -1\n",
    "    for j in range(0,9):\n",
    "        ratios.append((dict_list[j][i]+10 )/(total_dict[i]+90))\n",
    "    confuse_array.append(ratios)\n",
    "confuse_array = np.array(confuse_array)"
   ]
  },
  {
   "cell_type": "code",
   "execution_count": 74,
   "id": "0f4f72ef",
   "metadata": {},
   "outputs": [
    {
     "name": "stdout",
     "output_type": "stream",
     "text": [
      "Counter({3: 16774, 4: 16279, 5: 13140, 6: 8917, 7: 5784, 8: 4769, 9: 3973, 10: 3332, 11: 2755, 12: 2710, 13: 2486, 14: 1933, 15: 1774, 16: 1642, 17: 1438, 18: 1327, 19: 1212, 20: 1134, 22: 1121, 21: 1121, 24: 875, 23: 869, 26: 825, 25: 785, 27: 721, 28: 694, 30: 626, 29: 609, 31: 577, 33: 555, 32: 537, 35: 467, 34: 454, 36: 451, 47: 440, 38: 409, 39: 392, 37: 379, 41: 358, 42: 350, 40: 349, 46: 340, 44: 337, 43: 330, 48: 311, 45: 298, 51: 288, 49: 277, 50: 270, 52: 248, 53: 246, 54: 240, 58: 236, 55: 236, 68: 233, 56: 229, 62: 228, 67: 224, 60: 220, 57: 219, 61: 201, 69: 187, 64: 184, 66: 182, 65: 181, 63: 181, 59: 179, 74: 177, 73: 165, 71: 150, 78: 149, 70: 149, 76: 148, 75: 148, 72: 146, 84: 143, 81: 143, 77: 143, 80: 137, 79: 137, 93: 132, 85: 132, 91: 129, 86: 126, 82: 123, 87: 122, 95: 121, 88: 121, 83: 120, 98: 119, 94: 119, 90: 117, 104: 113, 89: 113, 92: 109, 103: 103, 99: 100, 97: 100, 102: 97, 105: 95, 101: 93, 107: 91, 112: 90, 106: 89, 113: 88, 116: 85, 100: 85, 130: 84, 117: 81, 96: 81, 115: 80, 114: 80, 127: 78, 110: 78, 126: 76, 109: 76, 108: 76, 123: 75, 138: 74, 131: 73, 119: 71, 125: 69, 120: 69, 111: 69, 128: 68, 122: 68, 121: 68, 141: 66, 132: 66, 118: 66, 153: 65, 137: 65, 146: 63, 124: 63, 156: 61, 142: 61, 129: 61, 140: 60, 135: 60, 151: 59, 148: 59, 136: 59, 134: 59, 162: 58, 145: 58, 178: 57, 147: 57, 149: 56, 139: 56, 133: 56, 164: 54, 143: 53, 161: 52, 159: 52, 152: 52, 168: 51, 155: 51, 144: 51, 190: 49, 157: 49, 165: 48, 158: 48, 172: 46, 150: 46, 173: 45, 179: 43, 160: 43, 154: 42, 191: 41, 188: 41, 207: 40, 183: 40, 175: 40, 185: 39, 184: 39, 177: 39, 166: 39, 205: 38, 186: 38, 170: 38, 163: 38, 167: 37, 219: 36, 174: 36, 217: 35, 208: 35, 204: 35, 199: 35, 176: 35, 249: 34, 245: 34, 181: 34, 236: 33, 221: 33, 211: 33, 206: 33, 198: 33, 187: 33, 182: 33, 273: 32, 229: 32, 218: 32, 202: 32, 197: 32, 196: 32, 195: 32, 189: 32, 180: 32, 289: 31, 243: 31, 226: 31, 224: 31, 215: 31, 193: 31, 271: 30, 241: 30, 209: 30, 201: 30, 200: 30, 194: 30, 192: 30, 255: 29, 253: 29, 251: 29, 239: 29, 216: 29, 210: 29, 279: 28, 238: 28, 233: 28, 203: 28, 171: 28, 169: 28, 264: 27, 240: 27, 234: 27, 228: 27, 277: 26, 254: 26, 242: 26, 232: 26, 225: 26, 214: 26, 422: 25, 294: 25, 259: 25, 227: 25, 213: 25, 296: 24, 291: 24, 274: 24, 263: 24, 258: 24, 248: 24, 244: 24, 222: 24, 348: 23, 235: 23, 230: 23, 223: 23, 212: 23, 305: 22, 284: 22, 283: 22, 281: 22, 270: 22, 267: 22, 265: 22, 261: 22, 250: 22, 237: 22, 407: 21, 311: 21, 303: 21, 298: 21, 268: 21, 262: 21, 404: 20, 308: 20, 302: 20, 280: 20, 275: 20, 257: 20, 326: 19, 309: 19, 295: 19, 286: 19, 272: 19, 269: 19, 246: 19, 595: 18, 512: 18, 410: 18, 374: 18, 353: 18, 352: 18, 350: 18, 324: 18, 307: 18, 290: 18, 287: 18, 256: 18, 231: 18, 435: 17, 400: 17, 379: 17, 347: 17, 340: 17, 337: 17, 335: 17, 331: 17, 323: 17, 321: 17, 320: 17, 313: 17, 300: 17, 278: 17, 276: 17, 266: 17, 247: 17, 517: 16, 485: 16, 368: 16, 361: 16, 358: 16, 345: 16, 341: 16, 328: 16, 322: 16, 318: 16, 293: 16, 288: 16, 499: 15, 466: 15, 462: 15, 452: 15, 443: 15, 439: 15, 389: 15, 381: 15, 355: 15, 343: 15, 333: 15, 327: 15, 315: 15, 306: 15, 292: 15, 260: 15, 252: 15, 497: 14, 388: 14, 384: 14, 383: 14, 370: 14, 362: 14, 357: 14, 339: 14, 332: 14, 330: 14, 316: 14, 301: 14, 299: 14, 282: 14, 575: 13, 506: 13, 482: 13, 477: 13, 472: 13, 451: 13, 406: 13, 403: 13, 399: 13, 396: 13, 392: 13, 390: 13, 375: 13, 373: 13, 367: 13, 359: 13, 351: 13, 344: 13, 338: 13, 336: 13, 325: 13, 317: 13, 297: 13, 220: 13, 649: 12, 634: 12, 527: 12, 508: 12, 491: 12, 484: 12, 467: 12, 453: 12, 425: 12, 423: 12, 421: 12, 413: 12, 411: 12, 397: 12, 395: 12, 391: 12, 386: 12, 385: 12, 382: 12, 363: 12, 360: 12, 356: 12, 349: 12, 346: 12, 329: 12, 736: 11, 733: 11, 716: 11, 682: 11, 633: 11, 627: 11, 579: 11, 529: 11, 528: 11, 504: 11, 496: 11, 476: 11, 474: 11, 470: 11, 468: 11, 460: 11, 459: 11, 444: 11, 442: 11, 418: 11, 414: 11, 408: 11, 398: 11, 371: 11, 342: 11, 312: 11, 304: 11, 285: 11, 803: 10, 726: 10, 692: 10, 573: 10, 559: 10, 556: 10, 550: 10, 539: 10, 535: 10, 534: 10, 524: 10, 520: 10, 500: 10, 495: 10, 486: 10, 479: 10, 478: 10, 473: 10, 471: 10, 469: 10, 457: 10, 450: 10, 448: 10, 432: 10, 415: 10, 412: 10, 409: 10, 402: 10, 394: 10, 393: 10, 372: 10, 366: 10, 354: 10, 319: 10, 915: 9, 713: 9, 706: 9, 679: 9, 673: 9, 657: 9, 647: 9, 642: 9, 629: 9, 594: 9, 574: 9, 567: 9, 548: 9, 546: 9, 538: 9, 531: 9, 523: 9, 498: 9, 487: 9, 464: 9, 458: 9, 454: 9, 420: 9, 419: 9, 417: 9, 387: 9, 380: 9, 369: 9, 365: 9, 334: 9, 310: 9, 1141: 8, 935: 8, 856: 8, 825: 8, 781: 8, 780: 8, 774: 8, 722: 8, 719: 8, 700: 8, 698: 8, 677: 8, 670: 8, 656: 8, 654: 8, 639: 8, 637: 8, 623: 8, 622: 8, 621: 8, 619: 8, 617: 8, 605: 8, 602: 8, 585: 8, 584: 8, 565: 8, 564: 8, 557: 8, 554: 8, 543: 8, 542: 8, 521: 8, 518: 8, 514: 8, 513: 8, 509: 8, 492: 8, 483: 8, 480: 8, 475: 8, 465: 8, 456: 8, 455: 8, 445: 8, 434: 8, 433: 8, 424: 8, 416: 8, 405: 8, 378: 8, 939: 7, 813: 7, 797: 7, 792: 7, 776: 7, 769: 7, 766: 7, 760: 7, 752: 7, 750: 7, 749: 7, 745: 7, 737: 7, 723: 7, 720: 7, 711: 7, 704: 7, 701: 7, 696: 7, 686: 7, 681: 7, 667: 7, 650: 7, 644: 7, 612: 7, 609: 7, 606: 7, 600: 7, 599: 7, 588: 7, 566: 7, 563: 7, 561: 7, 551: 7, 536: 7, 533: 7, 522: 7, 519: 7, 503: 7, 494: 7, 481: 7, 463: 7, 438: 7, 431: 7, 430: 7, 429: 7, 376: 7, 314: 7, 2101: 6, 1197: 6, 1180: 6, 1169: 6, 1110: 6, 1090: 6, 1067: 6, 1030: 6, 1024: 6, 1007: 6, 1004: 6, 995: 6, 986: 6, 985: 6, 946: 6, 937: 6, 930: 6, 910: 6, 907: 6, 890: 6, 874: 6, 869: 6, 858: 6, 837: 6, 835: 6, 823: 6, 811: 6, 783: 6, 765: 6, 753: 6, 751: 6, 743: 6, 740: 6, 714: 6, 710: 6, 707: 6, 691: 6, 687: 6, 683: 6, 671: 6, 663: 6, 662: 6, 660: 6, 653: 6, 640: 6, 636: 6, 632: 6, 626: 6, 625: 6, 610: 6, 607: 6, 592: 6, 590: 6, 583: 6, 577: 6, 572: 6, 570: 6, 568: 6, 555: 6, 552: 6, 547: 6, 545: 6, 540: 6, 537: 6, 532: 6, 526: 6, 501: 6, 488: 6, 449: 6, 441: 6, 436: 6, 426: 6, 401: 6, 377: 6, 2147: 5, 1640: 5, 1545: 5, 1293: 5, 1286: 5, 1270: 5, 1243: 5, 1229: 5, 1184: 5, 1165: 5, 1153: 5, 1150: 5, 1134: 5, 1132: 5, 1114: 5, 1087: 5, 1083: 5, 1081: 5, 1065: 5, 1050: 5, 1049: 5, 1043: 5, 1040: 5, 1039: 5, 1035: 5, 1033: 5, 1027: 5, 1015: 5, 999: 5, 981: 5, 974: 5, 962: 5, 961: 5, 954: 5, 950: 5, 949: 5, 940: 5, 927: 5, 926: 5, 919: 5, 914: 5, 903: 5, 898: 5, 897: 5, 860: 5, 850: 5, 845: 5, 842: 5, 827: 5, 820: 5, 819: 5, 805: 5, 802: 5, 798: 5, 795: 5, 791: 5, 788: 5, 777: 5, 770: 5, 763: 5, 762: 5, 761: 5, 759: 5, 757: 5, 754: 5, 748: 5, 747: 5, 744: 5, 739: 5, 734: 5, 731: 5, 708: 5, 697: 5, 690: 5, 689: 5, 678: 5, 674: 5, 669: 5, 664: 5, 658: 5, 652: 5, 651: 5, 645: 5, 631: 5, 613: 5, 603: 5, 601: 5, 598: 5, 596: 5, 591: 5, 589: 5, 581: 5, 571: 5, 569: 5, 562: 5, 560: 5, 544: 5, 530: 5, 525: 5, 515: 5, 502: 5, 489: 5, 447: 5, 446: 5, 440: 5, 427: 5, 364: 5, 2577: 4, 2470: 4, 2337: 4, 2244: 4, 2192: 4, 2078: 4, 2074: 4, 1848: 4, 1784: 4, 1695: 4, 1622: 4, 1621: 4, 1605: 4, 1604: 4, 1572: 4, 1549: 4, 1511: 4, 1496: 4, 1483: 4, 1475: 4, 1468: 4, 1449: 4, 1429: 4, 1426: 4, 1398: 4, 1394: 4, 1380: 4, 1377: 4, 1367: 4, 1365: 4, 1336: 4, 1327: 4, 1320: 4, 1287: 4, 1285: 4, 1269: 4, 1263: 4, 1253: 4, 1244: 4, 1237: 4, 1234: 4, 1225: 4, 1223: 4, 1221: 4, 1219: 4, 1204: 4, 1200: 4, 1194: 4, 1163: 4, 1145: 4, 1143: 4, 1135: 4, 1133: 4, 1131: 4, 1120: 4, 1093: 4, 1091: 4, 1084: 4, 1079: 4, 1076: 4, 1074: 4, 1070: 4, 1053: 4, 1032: 4, 1022: 4, 1006: 4, 1003: 4, 1001: 4, 989: 4, 987: 4, 983: 4, 973: 4, 969: 4, 965: 4, 959: 4, 956: 4, 943: 4, 942: 4, 938: 4, 934: 4, 933: 4, 924: 4, 921: 4, 913: 4, 911: 4, 908: 4, 906: 4, 904: 4, 900: 4, 891: 4, 880: 4, 879: 4, 870: 4, 862: 4, 859: 4, 854: 4, 852: 4, 851: 4, 844: 4, 841: 4, 836: 4, 833: 4, 832: 4, 831: 4, 826: 4, 816: 4, 815: 4, 810: 4, 808: 4, 804: 4, 799: 4, 796: 4, 793: 4, 789: 4, 787: 4, 782: 4, 779: 4, 775: 4, 773: 4, 772: 4, 758: 4, 756: 4, 755: 4, 746: 4, 742: 4, 741: 4, 735: 4, 728: 4, 727: 4, 725: 4, 724: 4, 715: 4, 702: 4, 693: 4, 688: 4, 684: 4, 680: 4, 668: 4, 666: 4, 665: 4, 655: 4, 641: 4, 630: 4, 628: 4, 620: 4, 614: 4, 608: 4, 597: 4, 587: 4, 582: 4, 578: 4, 558: 4, 553: 4, 549: 4, 541: 4, 516: 4, 511: 4, 510: 4, 507: 4, 493: 4, 461: 4, 6719: 3, 5839: 3, 5026: 3, 4868: 3, 4375: 3, 3524: 3, 3424: 3, 3400: 3, 3257: 3, 3090: 3, 2991: 3, 2944: 3, 2935: 3, 2907: 3, 2853: 3, 2756: 3, 2677: 3, 2631: 3, 2600: 3, 2553: 3, 2551: 3, 2529: 3, 2509: 3, 2492: 3, 2477: 3, 2423: 3, 2236: 3, 2235: 3, 2232: 3, 2199: 3, 2197: 3, 2194: 3, 2175: 3, 2164: 3, 2159: 3, 2148: 3, 2122: 3, 2065: 3, 2046: 3, 2040: 3, 2031: 3, 2009: 3, 1990: 3, 1981: 3, 1968: 3, 1943: 3, 1909: 3, 1906: 3, 1870: 3, 1839: 3, 1830: 3, 1821: 3, 1807: 3, 1797: 3, 1795: 3, 1772: 3, 1770: 3, 1761: 3, 1755: 3, 1738: 3, 1709: 3, 1689: 3, 1683: 3, 1681: 3, 1665: 3, 1658: 3, 1655: 3, 1647: 3, 1639: 3, 1634: 3, 1630: 3, 1626: 3, 1615: 3, 1610: 3, 1603: 3, 1600: 3, 1584: 3, 1580: 3, 1566: 3, 1562: 3, 1533: 3, 1529: 3, 1528: 3, 1520: 3, 1505: 3, 1489: 3, 1480: 3, 1478: 3, 1473: 3, 1472: 3, 1469: 3, 1466: 3, 1465: 3, 1453: 3, 1452: 3, 1434: 3, 1425: 3, 1424: 3, 1421: 3, 1409: 3, 1403: 3, 1400: 3, 1393: 3, 1389: 3, 1384: 3, 1381: 3, 1366: 3, 1356: 3, 1347: 3, 1330: 3, 1329: 3, 1324: 3, 1306: 3, 1300: 3, 1299: 3, 1295: 3, 1280: 3, 1274: 3, 1262: 3, 1261: 3, 1249: 3, 1247: 3, 1235: 3, 1231: 3, 1228: 3, 1220: 3, 1217: 3, 1216: 3, 1215: 3, 1199: 3, 1190: 3, 1183: 3, 1177: 3, 1175: 3, 1164: 3, 1157: 3, 1155: 3, 1152: 3, 1151: 3, 1142: 3, 1130: 3, 1129: 3, 1128: 3, 1127: 3, 1122: 3, 1119: 3, 1117: 3, 1111: 3, 1108: 3, 1106: 3, 1103: 3, 1097: 3, 1095: 3, 1066: 3, 1060: 3, 1054: 3, 1046: 3, 1045: 3, 1044: 3, 1041: 3, 1034: 3, 1026: 3, 1025: 3, 1023: 3, 1020: 3, 1018: 3, 1014: 3, 1000: 3, 997: 3, 994: 3, 993: 3, 990: 3, 988: 3, 976: 3, 972: 3, 971: 3, 967: 3, 960: 3, 958: 3, 957: 3, 953: 3, 931: 3, 929: 3, 923: 3, 922: 3, 912: 3, 902: 3, 899: 3, 896: 3, 894: 3, 893: 3, 892: 3, 885: 3, 882: 3, 878: 3, 877: 3, 872: 3, 868: 3, 865: 3, 864: 3, 857: 3, 855: 3, 847: 3, 843: 3, 840: 3, 830: 3, 818: 3, 817: 3, 814: 3, 807: 3, 806: 3, 801: 3, 800: 3, 794: 3, 785: 3, 778: 3, 768: 3, 738: 3, 732: 3, 730: 3, 718: 3, 705: 3, 703: 3, 695: 3, 694: 3, 685: 3, 672: 3, 661: 3, 646: 3, 638: 3, 635: 3, 624: 3, 618: 3, 611: 3, 604: 3, 593: 3, 576: 3, 428: 3, 14084: 2, 12662: 2, 11871: 2, 11742: 2, 11548: 2, 10832: 2, 10352: 2, 9888: 2, 9855: 2, 9425: 2, 9423: 2, 9396: 2, 9259: 2, 9121: 2, 8982: 2, 8789: 2, 8455: 2, 8349: 2, 8320: 2, 8247: 2, 8116: 2, 7878: 2, 7691: 2, 7687: 2, 7678: 2, 7558: 2, 7124: 2, 7056: 2, 6978: 2, 6876: 2, 6817: 2, 6758: 2, 6652: 2, 6460: 2, 6411: 2, 6391: 2, 6338: 2, 6271: 2, 6239: 2, 6147: 2, 6106: 2, 5944: 2, 5879: 2, 5821: 2, 5799: 2, 5722: 2, 5713: 2, 5706: 2, 5614: 2, 5569: 2, 5547: 2, 5541: 2, 5488: 2, 5481: 2, 5328: 2, 5325: 2, 5265: 2, 5249: 2, 5200: 2, 5191: 2, 5186: 2, 5185: 2, 5148: 2, 5058: 2, 4929: 2, 4897: 2, 4834: 2, 4823: 2, 4806: 2, 4779: 2, 4769: 2, 4743: 2, 4629: 2, 4621: 2, 4550: 2, 4500: 2, 4493: 2, 4490: 2, 4486: 2, 4473: 2, 4460: 2, 4437: 2, 4426: 2, 4407: 2, 4380: 2, 4373: 2, 4322: 2, 4300: 2, 4189: 2, 4179: 2, 4178: 2, 4167: 2, 4133: 2, 4127: 2, 4090: 2, 4085: 2, 4059: 2, 4050: 2, 4021: 2, 4005: 2, 3994: 2, 3968: 2, 3940: 2, 3927: 2, 3903: 2, 3902: 2, 3899: 2, 3870: 2, 3864: 2, 3844: 2, 3780: 2, 3768: 2, 3744: 2, 3711: 2, 3691: 2, 3676: 2, 3671: 2, 3651: 2, 3645: 2, 3630: 2, 3622: 2, 3615: 2, 3578: 2, 3560: 2, 3556: 2, 3538: 2, 3537: 2, 3525: 2, 3490: 2, 3469: 2, 3432: 2, 3429: 2, 3414: 2, 3408: 2, 3391: 2, 3390: 2, 3359: 2, 3352: 2, 3336: 2, 3312: 2, 3303: 2, 3277: 2, 3252: 2, 3250: 2, 3248: 2, 3226: 2, 3222: 2, 3198: 2, 3190: 2, 3181: 2, 3175: 2, 3158: 2, 3141: 2, 3119: 2, 3113: 2, 3094: 2, 3093: 2, 3087: 2, 3067: 2, 3064: 2, 3060: 2, 3055: 2, 3047: 2, 3045: 2, 3036: 2, 3027: 2, 2990: 2, 2989: 2, 2976: 2, 2969: 2, 2955: 2, 2943: 2, 2937: 2, 2928: 2, 2926: 2, 2921: 2, 2920: 2, 2901: 2, 2900: 2, 2883: 2, 2871: 2, 2868: 2, 2861: 2, 2852: 2, 2844: 2, 2841: 2, 2838: 2, 2831: 2, 2823: 2, 2802: 2, 2796: 2, 2769: 2, 2768: 2, 2763: 2, 2750: 2, 2748: 2, 2725: 2, 2712: 2, 2709: 2, 2703: 2, 2691: 2, 2667: 2, 2658: 2, 2644: 2, 2642: 2, 2641: 2, 2639: 2, 2627: 2, 2610: 2, 2598: 2, 2597: 2, 2581: 2, 2576: 2, 2546: 2, 2541: 2, 2526: 2, 2516: 2, 2504: 2, 2498: 2, 2490: 2, 2483: 2, 2473: 2, 2463: 2, 2462: 2, 2461: 2, 2454: 2, 2451: 2, 2422: 2, 2417: 2, 2412: 2, 2404: 2, 2399: 2, 2394: 2, 2386: 2, 2374: 2, 2369: 2, 2357: 2, 2352: 2, 2347: 2, 2334: 2, 2329: 2, 2315: 2, 2314: 2, 2312: 2, 2310: 2, 2299: 2, 2291: 2, 2288: 2, 2283: 2, 2280: 2, 2262: 2, 2260: 2, 2253: 2, 2230: 2, 2209: 2, 2206: 2, 2193: 2, 2189: 2, 2184: 2, 2181: 2, 2169: 2, 2165: 2, 2163: 2, 2158: 2, 2143: 2, 2136: 2, 2134: 2, 2129: 2, 2128: 2, 2125: 2, 2118: 2, 2104: 2, 2092: 2, 2089: 2, 2083: 2, 2075: 2, 2071: 2, 2069: 2, 2061: 2, 2057: 2, 2054: 2, 2051: 2, 2043: 2, 2036: 2, 2022: 2, 2021: 2, 2020: 2, 2015: 2, 2014: 2, 1997: 2, 1995: 2, 1988: 2, 1977: 2, 1954: 2, 1953: 2, 1951: 2, 1945: 2, 1938: 2, 1936: 2, 1934: 2, 1932: 2, 1930: 2, 1927: 2, 1923: 2, 1920: 2, 1917: 2, 1911: 2, 1910: 2, 1900: 2, 1896: 2, 1890: 2, 1881: 2, 1879: 2, 1877: 2, 1859: 2, 1857: 2, 1849: 2, 1845: 2, 1843: 2, 1838: 2, 1837: 2, 1833: 2, 1825: 2, 1823: 2, 1820: 2, 1817: 2, 1814: 2, 1813: 2, 1809: 2, 1801: 2, 1800: 2, 1791: 2, 1789: 2, 1787: 2, 1785: 2, 1783: 2, 1780: 2, 1777: 2, 1776: 2, 1773: 2, 1769: 2, 1768: 2, 1764: 2, 1763: 2, 1749: 2, 1743: 2, 1734: 2, 1732: 2, 1731: 2, 1726: 2, 1723: 2, 1721: 2, 1719: 2, 1713: 2, 1710: 2, 1708: 2, 1705: 2, 1702: 2, 1699: 2, 1698: 2, 1691: 2, 1686: 2, 1685: 2, 1679: 2, 1676: 2, 1673: 2, 1671: 2, 1668: 2, 1663: 2, 1662: 2, 1660: 2, 1654: 2, 1653: 2, 1650: 2, 1632: 2, 1627: 2, 1625: 2, 1623: 2, 1617: 2, 1616: 2, 1609: 2, 1608: 2, 1607: 2, 1606: 2, 1602: 2, 1599: 2, 1595: 2, 1585: 2, 1582: 2, 1578: 2, 1575: 2, 1574: 2, 1567: 2, 1565: 2, 1558: 2, 1553: 2, 1547: 2, 1541: 2, 1538: 2, 1524: 2, 1523: 2, 1522: 2, 1518: 2, 1515: 2, 1512: 2, 1508: 2, 1506: 2, 1500: 2, 1497: 2, 1487: 2, 1485: 2, 1481: 2, 1474: 2, 1470: 2, 1460: 2, 1457: 2, 1455: 2, 1451: 2, 1444: 2, 1440: 2, 1438: 2, 1427: 2, 1423: 2, 1420: 2, 1413: 2, 1411: 2, 1402: 2, 1399: 2, 1396: 2, 1388: 2, 1379: 2, 1378: 2, 1371: 2, 1369: 2, 1368: 2, 1361: 2, 1360: 2, 1358: 2, 1354: 2, 1346: 2, 1343: 2, 1342: 2, 1339: 2, 1337: 2, 1335: 2, 1334: 2, 1333: 2, 1332: 2, 1328: 2, 1325: 2, 1323: 2, 1319: 2, 1318: 2, 1308: 2, 1307: 2, 1303: 2, 1302: 2, 1297: 2, 1292: 2, 1290: 2, 1289: 2, 1282: 2, 1281: 2, 1277: 2, 1275: 2, 1273: 2, 1271: 2, 1268: 2, 1265: 2, 1260: 2, 1258: 2, 1250: 2, 1248: 2, 1238: 2, 1233: 2, 1226: 2, 1224: 2, 1214: 2, 1213: 2, 1211: 2, 1210: 2, 1209: 2, 1208: 2, 1206: 2, 1198: 2, 1196: 2, 1193: 2, 1192: 2, 1191: 2, 1178: 2, 1174: 2, 1168: 2, 1167: 2, 1166: 2, 1160: 2, 1154: 2, 1148: 2, 1146: 2, 1140: 2, 1139: 2, 1123: 2, 1116: 2, 1115: 2, 1113: 2, 1107: 2, 1104: 2, 1102: 2, 1100: 2, 1092: 2, 1088: 2, 1085: 2, 1075: 2, 1073: 2, 1072: 2, 1064: 2, 1062: 2, 1061: 2, 1057: 2, 1052: 2, 1051: 2, 1047: 2, 1036: 2, 1029: 2, 1019: 2, 1017: 2, 1012: 2, 1011: 2, 1005: 2, 998: 2, 996: 2, 992: 2, 984: 2, 978: 2, 966: 2, 964: 2, 955: 2, 952: 2, 951: 2, 948: 2, 947: 2, 945: 2, 944: 2, 941: 2, 936: 2, 932: 2, 920: 2, 918: 2, 889: 2, 888: 2, 886: 2, 883: 2, 876: 2, 875: 2, 873: 2, 871: 2, 866: 2, 863: 2, 861: 2, 853: 2, 848: 2, 838: 2, 834: 2, 829: 2, 824: 2, 812: 2, 809: 2, 790: 2, 786: 2, 784: 2, 771: 2, 767: 2, 764: 2, 729: 2, 721: 2, 717: 2, 699: 2, 676: 2, 675: 2, 659: 2, 648: 2, 616: 2, 586: 2, 580: 2, 505: 2, 490: 2, 437: 2, 355231: 1, 353415: 1, 238394: 1, 184252: 1, 184144: 1, 183566: 1, 177577: 1, 177193: 1, 169036: 1, 157110: 1, 155558: 1, 151345: 1, 122367: 1, 122100: 1, 121326: 1, 117484: 1, 116428: 1, 116024: 1, 114096: 1, 106443: 1, 105934: 1, 104991: 1, 103665: 1, 100252: 1, 99848: 1, 98393: 1, 96916: 1, 91493: 1, 89639: 1, 86103: 1, 85386: 1, 84087: 1, 83560: 1, 79919: 1, 79267: 1, 79159: 1, 77972: 1, 71173: 1, 71059: 1, 70223: 1, 69896: 1, 69783: 1, 69634: 1, 68615: 1, 68525: 1, 67794: 1, 66539: 1, 65822: 1, 65812: 1, 65464: 1, 65305: 1, 64622: 1, 62929: 1, 62754: 1, 62173: 1, 59592: 1, 58028: 1, 57563: 1, 56821: 1, 56688: 1, 55684: 1, 55180: 1, 54816: 1, 53955: 1, 52980: 1, 52651: 1, 52518: 1, 51488: 1, 51436: 1, 51064: 1, 50861: 1, 50390: 1, 50361: 1, 49976: 1, 49926: 1, 49712: 1, 49153: 1, 49140: 1, 48942: 1, 48664: 1, 48539: 1, 48445: 1, 47945: 1, 47622: 1, 47426: 1, 47044: 1, 46844: 1, 46672: 1, 45672: 1, 45643: 1, 45044: 1, 45010: 1, 44773: 1, 44712: 1, 44274: 1, 43835: 1, 43379: 1, 43173: 1, 43139: 1, 43121: 1, 42772: 1, 42306: 1, 42054: 1, 41202: 1, 41059: 1, 40728: 1, 40705: 1, 40567: 1, 40326: 1, 40224: 1, 40139: 1, 40051: 1, 39734: 1, 39624: 1, 39126: 1, 38517: 1, 37894: 1, 37532: 1, 37505: 1, 37200: 1, 37079: 1, 36918: 1, 36820: 1, 36739: 1, 36660: 1, 36612: 1, 36394: 1, 36258: 1, 36190: 1, 36056: 1, 35956: 1, 35674: 1, 35503: 1, 35297: 1, 35183: 1, 35102: 1, 35025: 1, 34732: 1, 34513: 1, 34454: 1, 34400: 1, 34242: 1, 34134: 1, 34070: 1, 34042: 1, 34031: 1, 34029: 1, 33898: 1, 33864: 1, 33836: 1, 33779: 1, 33753: 1, 33732: 1, 33363: 1, 33307: 1, 33176: 1, 33114: 1, 33081: 1, 33060: 1, 32973: 1, 32915: 1, 32588: 1, 32566: 1, 32207: 1, 32058: 1, 31961: 1, 31880: 1, 31803: 1, 31593: 1, 31548: 1, 31251: 1, 31248: 1, 31009: 1, 30956: 1, 30860: 1, 30753: 1, 30693: 1, 30685: 1, 30647: 1, 30439: 1, 30367: 1, 30194: 1, 30188: 1, 30134: 1, 29988: 1, 29931: 1, 29298: 1, 28950: 1, 28937: 1, 28894: 1, 28728: 1, 28424: 1, 28391: 1, 28320: 1, 28168: 1, 27975: 1, 27963: 1, 27903: 1, 27829: 1, 27643: 1, 27342: 1, 27305: 1, 27128: 1, 27105: 1, 26817: 1, 26760: 1, 26747: 1, 26696: 1, 26665: 1, 26651: 1, 26553: 1, 26551: 1, 26393: 1, 26351: 1, 26242: 1, 25969: 1, 25681: 1, 25581: 1, 25513: 1, 25510: 1, 25447: 1, 25360: 1, 25141: 1, 25114: 1, 25080: 1, 25059: 1, 25042: 1, 24997: 1, 24958: 1, 24459: 1, 24268: 1, 24196: 1, 24156: 1, 24139: 1, 24038: 1, 24007: 1, 23885: 1, 23845: 1, 23728: 1, 23691: 1, 23669: 1, 23527: 1, 23526: 1, 23365: 1, 23317: 1, 23273: 1, 23174: 1, 23134: 1, 23084: 1, 23081: 1, 22963: 1, 22939: 1, 22888: 1, 22764: 1, 22722: 1, 22697: 1, 22692: 1, 22682: 1, 22641: 1, 22625: 1, 22332: 1, 22222: 1, 22201: 1, 22127: 1, 22089: 1, 21896: 1, 21776: 1, 21757: 1, 21735: 1, 21708: 1, 21672: 1, 21617: 1, 21611: 1, 21557: 1, 21525: 1, 21465: 1, 21416: 1, 21367: 1, 21351: 1, 21280: 1, 21153: 1, 21106: 1, 21034: 1, 20990: 1, 20860: 1, 20835: 1, 20803: 1, 20744: 1, 20657: 1, 20566: 1, 20516: 1, 20507: 1, 20394: 1, 20171: 1, 20163: 1, 20130: 1, 20128: 1, 20008: 1, 19979: 1, 19976: 1, 19923: 1, 19915: 1, 19908: 1, 19808: 1, 19801: 1, 19796: 1, 19788: 1, 19769: 1, 19739: 1, 19692: 1, 19574: 1, 19536: 1, 19400: 1, 19377: 1, 19189: 1, 19160: 1, 19155: 1, 19132: 1, 19079: 1, 19004: 1, 18947: 1, 18944: 1, 18942: 1, 18877: 1, 18856: 1, 18833: 1, 18787: 1, 18732: 1, 18708: 1, 18663: 1, 18654: 1, 18613: 1, 18566: 1, 18561: 1, 18520: 1, 18503: 1, 18445: 1, 18366: 1, 18245: 1, 18201: 1, 18193: 1, 18183: 1, 18169: 1, 18091: 1, 18038: 1, 18015: 1, 17977: 1, 17969: 1, 17901: 1, 17892: 1, 17820: 1, 17808: 1, 17807: 1, 17800: 1, 17731: 1, 17601: 1, 17563: 1, 17544: 1, 17527: 1, 17508: 1, 17459: 1, 17426: 1, 17417: 1, 17396: 1, 17323: 1, 17257: 1, 17174: 1, 17154: 1, 17080: 1, 17066: 1, 16938: 1, 16936: 1, 16912: 1, 16867: 1, 16841: 1, 16828: 1, 16772: 1, 16768: 1, 16720: 1, 16637: 1, 16619: 1, 16614: 1, 16523: 1, 16448: 1, 16438: 1, 16388: 1, 16358: 1, 16356: 1, 16330: 1, 16312: 1, 16292: 1, 16273: 1, 16181: 1, 16152: 1, 16139: 1, 16130: 1, 16093: 1, 16065: 1, 15897: 1, 15872: 1, 15859: 1, 15848: 1, 15798: 1, 15785: 1, 15712: 1, 15674: 1, 15672: 1, 15631: 1, 15576: 1, 15575: 1, 15554: 1, 15550: 1, 15528: 1, 15527: 1, 15517: 1, 15499: 1, 15474: 1, 15370: 1, 15364: 1, 15329: 1, 15321: 1, 15291: 1, 15249: 1, 15169: 1, 15168: 1, 15166: 1, 15148: 1, 15133: 1, 15122: 1, 15115: 1, 15109: 1, 15079: 1, 15058: 1, 14988: 1, 14966: 1, 14874: 1, 14839: 1, 14821: 1, 14709: 1, 14707: 1, 14677: 1, 14658: 1, 14641: 1, 14581: 1, 14547: 1, 14492: 1, 14487: 1, 14473: 1, 14465: 1, 14462: 1, 14440: 1, 14422: 1, 14408: 1, 14367: 1, 14338: 1, 14322: 1, 14299: 1, 14250: 1, 14247: 1, 14244: 1, 14189: 1, 14145: 1, 14129: 1, 14108: 1, 14042: 1, 13999: 1, 13964: 1, 13956: 1, 13912: 1, 13893: 1, 13860: 1, 13788: 1, 13783: 1, 13752: 1, 13748: 1, 13677: 1, 13616: 1, 13573: 1, 13460: 1, 13449: 1, 13396: 1, 13388: 1, 13384: 1, 13380: 1, 13377: 1, 13351: 1, 13327: 1, 13325: 1, 13303: 1, 13292: 1, 13263: 1, 13256: 1, 13252: 1, 13209: 1, 13190: 1, 13186: 1, 13181: 1, 13166: 1, 13150: 1, 13113: 1, 13076: 1, 13000: 1, 12998: 1, 12974: 1, 12951: 1, 12948: 1, 12920: 1, 12904: 1, 12900: 1, 12874: 1, 12848: 1, 12833: 1, 12816: 1, 12802: 1, 12786: 1, 12768: 1, 12759: 1, 12753: 1, 12729: 1, 12715: 1, 12669: 1, 12668: 1, 12649: 1, 12642: 1, 12632: 1, 12617: 1, 12584: 1, 12574: 1, 12526: 1, 12513: 1, 12491: 1, 12467: 1, 12454: 1, 12451: 1, 12445: 1, 12435: 1, 12329: 1, 12274: 1, 12249: 1, 12244: 1, 12228: 1, 12200: 1, 12189: 1, 12171: 1, 12167: 1, 12164: 1, 12113: 1, 12112: 1, 12103: 1, 12094: 1, 12082: 1, 12059: 1, 12024: 1, 11993: 1, 11983: 1, 11978: 1, 11977: 1, 11958: 1, 11956: 1, 11954: 1, 11937: 1, 11936: 1, 11931: 1, 11912: 1, 11882: 1, 11845: 1, 11832: 1, 11830: 1, 11753: 1, 11747: 1, 11724: 1, 11715: 1, 11710: 1, 11698: 1, 11688: 1, 11673: 1, 11667: 1, 11644: 1, 11628: 1, 11625: 1, 11620: 1, 11617: 1, 11608: 1, 11606: 1, 11597: 1, 11584: 1, 11566: 1, 11562: 1, 11527: 1, 11479: 1, 11475: 1, 11457: 1, 11450: 1, 11396: 1, 11378: 1, 11377: 1, 11330: 1, 11314: 1, 11301: 1, 11276: 1, 11265: 1, 11186: 1, 11166: 1, 11102: 1, 11097: 1, 11066: 1, 11037: 1, 11034: 1, 10998: 1, 10955: 1, 10954: 1, 10942: 1, 10935: 1, 10919: 1, 10906: 1, 10903: 1, 10882: 1, 10876: 1, 10864: 1, 10858: 1, 10849: 1, 10820: 1, 10796: 1, 10791: 1, 10786: 1, 10780: 1, 10771: 1, 10765: 1, 10763: 1, 10732: 1, 10709: 1, 10707: 1, 10704: 1, 10703: 1, 10658: 1, 10634: 1, 10627: 1, 10610: 1, 10608: 1, 10604: 1, 10598: 1, 10596: 1, 10584: 1, 10496: 1, 10486: 1, 10437: 1, 10436: 1, 10409: 1, 10403: 1, 10362: 1, 10340: 1, 10331: 1, 10307: 1, 10298: 1, 10262: 1, 10245: 1, 10230: 1, 10227: 1, 10220: 1, 10186: 1, 10170: 1, 10167: 1, 10165: 1, 10159: 1, 10108: 1, 10091: 1, 10085: 1, 10065: 1, 10046: 1, 10044: 1, 10033: 1, 10010: 1, 10009: 1, 10006: 1, 9999: 1, 9995: 1, 9991: 1, 9986: 1, 9982: 1, 9958: 1, 9957: 1, 9935: 1, 9907: 1, 9887: 1, 9883: 1, 9879: 1, 9846: 1, 9830: 1, 9807: 1, 9801: 1, 9777: 1, 9767: 1, 9764: 1, 9749: 1, 9734: 1, 9715: 1, 9708: 1, 9694: 1, 9691: 1, 9676: 1, 9667: 1, 9659: 1, 9630: 1, 9627: 1, 9625: 1, 9619: 1, 9612: 1, 9608: 1, 9588: 1, 9570: 1, 9551: 1, 9549: 1, 9544: 1, 9543: 1, 9542: 1, 9536: 1, 9532: 1, 9529: 1, 9522: 1, 9515: 1, 9511: 1, 9493: 1, 9480: 1, 9461: 1, 9432: 1, 9429: 1, 9414: 1, 9412: 1, 9408: 1, 9405: 1, 9403: 1, 9374: 1, 9372: 1, 9367: 1, 9353: 1, 9319: 1, 9311: 1, 9300: 1, 9295: 1, 9285: 1, 9284: 1, 9272: 1, 9267: 1, 9233: 1, 9210: 1, 9208: 1, 9205: 1, 9196: 1, 9183: 1, 9180: 1, 9142: 1, 9132: 1, 9105: 1, 9098: 1, 9086: 1, 9079: 1, 9042: 1, 9035: 1, 9030: 1, 9025: 1, 9007: 1, 9004: 1, 8973: 1, 8963: 1, 8961: 1, 8947: 1, 8934: 1, 8903: 1, 8900: 1, 8899: 1, 8895: 1, 8889: 1, 8887: 1, 8885: 1, 8877: 1, 8862: 1, 8861: 1, 8831: 1, 8803: 1, 8795: 1, 8792: 1, 8786: 1, 8783: 1, 8766: 1, 8756: 1, 8754: 1, 8724: 1, 8712: 1, 8697: 1, 8696: 1, 8692: 1, 8690: 1, 8689: 1, 8683: 1, 8682: 1, 8681: 1, 8678: 1, 8675: 1, 8674: 1, 8670: 1, 8665: 1, 8656: 1, 8640: 1, 8630: 1, 8622: 1, 8619: 1, 8603: 1, 8594: 1, 8588: 1, 8582: 1, 8570: 1, 8533: 1, 8513: 1, 8495: 1, 8482: 1, 8476: 1, 8470: 1, 8465: 1, 8456: 1, 8446: 1, 8444: 1, 8432: 1, 8422: 1, 8394: 1, 8388: 1, 8376: 1, 8354: 1, 8351: 1, 8325: 1, 8314: 1, 8309: 1, 8304: 1, 8267: 1, 8257: 1, 8250: 1, 8233: 1, 8229: 1, 8227: 1, 8222: 1, 8218: 1, 8212: 1, 8208: 1, 8206: 1, 8175: 1, 8173: 1, 8151: 1, 8147: 1, 8130: 1, 8127: 1, 8114: 1, 8112: 1, 8111: 1, 8095: 1, 8065: 1, 8047: 1, 8041: 1, 8040: 1, 8035: 1, 8027: 1, 8021: 1, 8019: 1, 8015: 1, 8009: 1, 8001: 1, 7996: 1, 7990: 1, 7985: 1, 7982: 1, 7962: 1, 7959: 1, 7940: 1, 7920: 1, 7891: 1, 7888: 1, 7884: 1, 7881: 1, 7864: 1, 7863: 1, 7858: 1, 7849: 1, 7830: 1, 7820: 1, 7812: 1, 7810: 1, 7792: 1, 7750: 1, 7749: 1, 7746: 1, 7740: 1, 7738: 1, 7730: 1, 7719: 1, 7704: 1, 7695: 1, 7682: 1, 7644: 1, 7640: 1, 7634: 1, 7607: 1, 7592: 1, 7590: 1, 7566: 1, 7559: 1, 7539: 1, 7537: 1, 7518: 1, 7512: 1, 7500: 1, 7499: 1, 7481: 1, 7472: 1, 7457: 1, 7447: 1, 7444: 1, 7442: 1, 7435: 1, 7399: 1, 7397: 1, 7385: 1, 7380: 1, 7375: 1, 7359: 1, 7355: 1, 7344: 1, 7341: 1, 7318: 1, 7314: 1, 7307: 1, 7290: 1, 7284: 1, 7283: 1, 7267: 1, 7262: 1, 7237: 1, 7235: 1, 7222: 1, 7216: 1, 7209: 1, 7204: 1, 7202: 1, 7188: 1, 7173: 1, 7164: 1, 7156: 1, 7145: 1, 7142: 1, 7138: 1, 7131: 1, 7127: 1, 7120: 1, 7115: 1, 7094: 1, 7075: 1, 7073: 1, 7071: 1, 7062: 1, 7044: 1, 7043: 1, 7041: 1, 7037: 1, 7034: 1, 7029: 1, 7019: 1, 7018: 1, 7008: 1, 6988: 1, 6981: 1, 6980: 1, 6976: 1, 6972: 1, 6968: 1, 6960: 1, 6953: 1, 6950: 1, 6942: 1, 6927: 1, 6905: 1, 6892: 1, 6887: 1, 6886: 1, 6881: 1, 6870: 1, 6866: 1, 6862: 1, 6846: 1, 6843: 1, 6835: 1, 6812: 1, 6811: 1, 6801: 1, 6795: 1, 6790: 1, 6767: 1, 6753: 1, 6747: 1, 6746: 1, 6744: 1, 6729: 1, 6728: 1, 6698: 1, 6697: 1, 6688: 1, 6683: 1, 6682: 1, 6667: 1, 6655: 1, 6650: 1, 6632: 1, 6627: 1, 6623: 1, 6620: 1, 6611: 1, 6584: 1, 6581: 1, 6577: 1, 6573: 1, 6560: 1, 6553: 1, 6552: 1, 6545: 1, 6543: 1, 6532: 1, 6530: 1, 6529: 1, 6518: 1, 6498: 1, 6486: 1, 6483: 1, 6478: 1, 6475: 1, 6473: 1, 6471: 1, 6470: 1, 6458: 1, 6456: 1, 6444: 1, 6430: 1, 6425: 1, 6424: 1, 6422: 1, 6417: 1, 6409: 1, 6395: 1, 6386: 1, 6385: 1, 6384: 1, 6374: 1, 6363: 1, 6344: 1, 6333: 1, 6324: 1, 6317: 1, 6316: 1, 6311: 1, 6309: 1, 6308: 1, 6292: 1, 6281: 1, 6272: 1, 6270: 1, 6259: 1, 6255: 1, 6253: 1, 6252: 1, 6238: 1, 6237: 1, 6235: 1, 6221: 1, 6220: 1, 6217: 1, 6211: 1, 6205: 1, 6202: 1, 6201: 1, 6200: 1, 6198: 1, 6196: 1, 6194: 1, 6193: 1, 6181: 1, 6176: 1, 6165: 1, 6162: 1, 6152: 1, 6148: 1, 6144: 1, 6125: 1, 6118: 1, 6117: 1, 6110: 1, 6084: 1, 6083: 1, 6078: 1, 6070: 1, 6059: 1, 6048: 1, 6046: 1, 6037: 1, 6019: 1, 6007: 1, 6003: 1, 5992: 1, 5990: 1, 5989: 1, 5979: 1, 5962: 1, 5958: 1, 5956: 1, 5955: 1, 5954: 1, 5946: 1, 5943: 1, 5941: 1, 5938: 1, 5934: 1, 5929: 1, 5927: 1, 5920: 1, 5919: 1, 5917: 1, 5915: 1, 5914: 1, 5906: 1, 5901: 1, 5898: 1, 5892: 1, 5889: 1, 5887: 1, 5885: 1, 5860: 1, 5850: 1, 5848: 1, 5840: 1, 5820: 1, 5816: 1, 5812: 1, 5811: 1, 5810: 1, 5784: 1, 5774: 1, 5772: 1, 5771: 1, 5769: 1, 5740: 1, 5738: 1, 5735: 1, 5731: 1, 5723: 1, 5721: 1, 5716: 1, 5714: 1, 5712: 1, 5710: 1, 5707: 1, 5693: 1, 5689: 1, 5683: 1, 5682: 1, 5680: 1, 5677: 1, 5675: 1, 5668: 1, 5649: 1, 5648: 1, 5637: 1, 5628: 1, 5617: 1, 5615: 1, 5612: 1, 5610: 1, 5599: 1, 5593: 1, 5590: 1, 5589: 1, 5584: 1, 5559: 1, 5557: 1, 5552: 1, 5550: 1, 5546: 1, 5545: 1, 5542: 1, 5537: 1, 5534: 1, 5529: 1, 5525: 1, 5524: 1, 5513: 1, 5496: 1, 5485: 1, 5479: 1, 5476: 1, 5475: 1, 5471: 1, 5469: 1, 5463: 1, 5458: 1, 5454: 1, 5449: 1, 5445: 1, 5444: 1, 5443: 1, 5440: 1, 5438: 1, 5437: 1, 5434: 1, 5426: 1, 5390: 1, 5389: 1, 5378: 1, 5365: 1, 5356: 1, 5349: 1, 5346: 1, 5344: 1, 5339: 1, 5315: 1, 5306: 1, 5298: 1, 5279: 1, 5275: 1, 5272: 1, 5271: 1, 5269: 1, 5263: 1, 5262: 1, 5255: 1, 5244: 1, 5237: 1, 5235: 1, 5222: 1, 5219: 1, 5211: 1, 5205: 1, 5203: 1, 5193: 1, 5177: 1, 5162: 1, 5152: 1, 5151: 1, 5144: 1, 5142: 1, 5135: 1, 5134: 1, 5114: 1, 5113: 1, 5105: 1, 5103: 1, 5080: 1, 5077: 1, 5073: 1, 5068: 1, 5063: 1, 5062: 1, 5059: 1, 5051: 1, 5040: 1, 5035: 1, 5023: 1, 5021: 1, 5017: 1, 5015: 1, 5014: 1, 5012: 1, 5004: 1, 5000: 1, 4999: 1, 4997: 1, 4995: 1, 4987: 1, 4982: 1, 4980: 1, 4972: 1, 4956: 1, 4955: 1, 4928: 1, 4927: 1, 4923: 1, 4905: 1, 4904: 1, 4902: 1, 4901: 1, 4900: 1, 4883: 1, 4880: 1, 4878: 1, 4870: 1, 4864: 1, 4858: 1, 4855: 1, 4850: 1, 4838: 1, 4837: 1, 4825: 1, 4824: 1, 4818: 1, 4810: 1, 4805: 1, 4795: 1, 4781: 1, 4773: 1, 4772: 1, 4771: 1, 4765: 1, 4763: 1, 4759: 1, 4757: 1, 4755: 1, 4753: 1, 4737: 1, 4728: 1, 4727: 1, 4722: 1, 4719: 1, 4715: 1, 4712: 1, 4709: 1, 4705: 1, 4704: 1, 4694: 1, 4687: 1, 4676: 1, 4673: 1, 4667: 1, 4666: 1, 4651: 1, 4643: 1, 4638: 1, 4637: 1, 4635: 1, 4634: 1, 4630: 1, 4626: 1, 4625: 1, 4616: 1, 4611: 1, 4609: 1, 4607: 1, 4606: 1, 4604: 1, 4603: 1, 4599: 1, 4597: 1, 4595: 1, 4594: 1, 4593: 1, 4589: 1, 4577: 1, 4570: 1, 4569: 1, 4568: 1, 4565: 1, 4557: 1, 4554: 1, 4552: 1, 4551: 1, 4548: 1, 4533: 1, 4531: 1, 4530: 1, 4529: 1, 4525: 1, 4510: 1, 4509: 1, 4504: 1, 4503: 1, 4495: 1, 4487: 1, 4485: 1, 4481: 1, 4475: 1, 4474: 1, 4468: 1, 4464: 1, 4458: 1, 4432: 1, 4429: 1, 4427: 1, 4424: 1, 4422: 1, 4418: 1, 4414: 1, 4411: 1, 4409: 1, 4404: 1, 4402: 1, 4401: 1, 4399: 1, 4395: 1, 4390: 1, 4389: 1, 4379: 1, 4371: 1, 4362: 1, 4359: 1, 4346: 1, 4343: 1, 4340: 1, 4331: 1, 4326: 1, 4325: 1, 4321: 1, 4320: 1, 4313: 1, 4311: 1, 4310: 1, 4307: 1, 4301: 1, 4298: 1, 4295: 1, 4293: 1, 4289: 1, 4286: 1, 4284: 1, 4278: 1, 4277: 1, 4274: 1, 4266: 1, 4265: 1, 4261: 1, 4260: 1, 4257: 1, 4255: 1, 4252: 1, 4249: 1, 4243: 1, 4242: 1, 4240: 1, 4235: 1, 4231: 1, 4224: 1, 4223: 1, 4222: 1, 4218: 1, 4217: 1, 4216: 1, 4214: 1, 4212: 1, 4206: 1, 4203: 1, 4202: 1, 4197: 1, 4196: 1, 4194: 1, 4192: 1, 4191: 1, 4184: 1, 4180: 1, 4176: 1, 4173: 1, 4169: 1, 4168: 1, 4166: 1, 4162: 1, 4160: 1, 4157: 1, 4149: 1, 4147: 1, 4141: 1, 4137: 1, 4132: 1, 4124: 1, 4120: 1, 4117: 1, 4116: 1, 4115: 1, 4111: 1, 4110: 1, 4105: 1, 4102: 1, 4095: 1, 4082: 1, 4080: 1, 4078: 1, 4072: 1, 4060: 1, 4058: 1, 4054: 1, 4048: 1, 4047: 1, 4038: 1, 4036: 1, 4031: 1, 4028: 1, 4027: 1, 4025: 1, 4023: 1, 4017: 1, 4016: 1, 4013: 1, 4007: 1, 4006: 1, 4003: 1, 3999: 1, 3996: 1, 3989: 1, 3982: 1, 3980: 1, 3978: 1, 3974: 1, 3971: 1, 3967: 1, 3966: 1, 3965: 1, 3963: 1, 3959: 1, 3956: 1, 3953: 1, 3950: 1, 3945: 1, 3943: 1, 3942: 1, 3938: 1, 3924: 1, 3916: 1, 3913: 1, 3909: 1, 3906: 1, 3894: 1, 3891: 1, 3890: 1, 3885: 1, 3877: 1, 3871: 1, 3867: 1, 3865: 1, 3858: 1, 3852: 1, 3848: 1, 3845: 1, 3833: 1, 3831: 1, 3830: 1, 3827: 1, 3824: 1, 3821: 1, 3810: 1, 3809: 1, 3807: 1, 3806: 1, 3801: 1, 3799: 1, 3794: 1, 3793: 1, 3792: 1, 3787: 1, 3782: 1, 3778: 1, 3776: 1, 3767: 1, 3765: 1, 3763: 1, 3758: 1, 3756: 1, 3748: 1, 3737: 1, 3732: 1, 3727: 1, 3722: 1, 3715: 1, 3713: 1, 3709: 1, 3703: 1, 3698: 1, 3694: 1, 3690: 1, 3688: 1, 3686: 1, 3684: 1, 3680: 1, 3677: 1, 3674: 1, 3667: 1, 3666: 1, 3665: 1, 3663: 1, 3655: 1, 3654: 1, 3650: 1, 3649: 1, 3648: 1, 3642: 1, 3638: 1, 3634: 1, 3629: 1, 3628: 1, 3627: 1, 3626: 1, 3625: 1, 3624: 1, 3623: 1, 3617: 1, 3604: 1, 3599: 1, 3591: 1, 3589: 1, 3586: 1, 3583: 1, 3582: 1, 3580: 1, 3575: 1, 3573: 1, 3572: 1, 3571: 1, 3563: 1, 3561: 1, 3558: 1, 3555: 1, 3553: 1, 3551: 1, 3550: 1, 3544: 1, 3539: 1, 3536: 1, 3535: 1, 3532: 1, 3527: 1, 3526: 1, 3522: 1, 3521: 1, 3520: 1, 3517: 1, 3513: 1, 3504: 1, 3503: 1, 3502: 1, 3499: 1, 3498: 1, 3495: 1, 3493: 1, 3491: 1, 3488: 1, 3487: 1, 3484: 1, 3481: 1, 3480: 1, 3479: 1, 3463: 1, 3459: 1, 3455: 1, 3454: 1, 3450: 1, 3445: 1, 3443: 1, 3440: 1, 3425: 1, 3423: 1, 3422: 1, 3421: 1, 3419: 1, 3418: 1, 3416: 1, 3415: 1, 3411: 1, 3410: 1, 3406: 1, 3402: 1, 3397: 1, 3389: 1, 3385: 1, 3384: 1, 3383: 1, 3380: 1, 3379: 1, 3377: 1, 3375: 1, 3374: 1, 3371: 1, 3367: 1, 3366: 1, 3364: 1, 3363: 1, 3362: 1, 3358: 1, 3350: 1, 3346: 1, 3342: 1, 3340: 1, 3339: 1, 3338: 1, 3335: 1, 3334: 1, 3331: 1, 3330: 1, 3329: 1, 3327: 1, 3319: 1, 3315: 1, 3313: 1, 3304: 1, 3296: 1, 3295: 1, 3293: 1, 3291: 1, 3290: 1, 3289: 1, 3285: 1, 3282: 1, 3275: 1, 3269: 1, 3267: 1, 3265: 1, 3264: 1, 3255: 1, 3251: 1, 3241: 1, 3239: 1, 3238: 1, 3237: 1, 3236: 1, 3232: 1, 3229: 1, 3225: 1, 3223: 1, 3217: 1, 3215: 1, 3214: 1, 3211: 1, 3209: 1, 3208: 1, 3207: 1, 3205: 1, 3203: 1, 3202: 1, 3197: 1, 3195: 1, 3194: 1, 3193: 1, 3192: 1, 3191: 1, 3189: 1, 3188: 1, 3187: 1, 3183: 1, 3179: 1, 3177: 1, 3169: 1, 3166: 1, 3164: 1, 3162: 1, 3156: 1, 3154: 1, 3150: 1, 3145: 1, 3144: 1, 3143: 1, 3139: 1, 3137: 1, 3132: 1, 3131: 1, 3129: 1, 3128: 1, 3125: 1, 3117: 1, 3115: 1, 3109: 1, 3105: 1, 3103: 1, 3101: 1, 3100: 1, 3099: 1, 3098: 1, 3097: 1, 3091: 1, 3082: 1, 3080: 1, 3079: 1, 3078: 1, 3076: 1, 3075: 1, 3071: 1, 3061: 1, 3050: 1, 3046: 1, 3043: 1, 3041: 1, 3040: 1, 3033: 1, 3031: 1, 3028: 1, 3026: 1, 3020: 1, 3011: 1, 3010: 1, 3004: 1, 3002: 1, 2998: 1, 2988: 1, 2987: 1, 2985: 1, 2983: 1, 2979: 1, 2974: 1, 2972: 1, 2970: 1, 2968: 1, 2961: 1, 2960: 1, 2957: 1, 2956: 1, 2953: 1, 2949: 1, 2948: 1, 2947: 1, 2945: 1, 2942: 1, 2941: 1, 2939: 1, 2936: 1, 2932: 1, 2927: 1, 2922: 1, 2919: 1, 2918: 1, 2914: 1, 2905: 1, 2904: 1, 2899: 1, 2895: 1, 2891: 1, 2889: 1, 2888: 1, 2887: 1, 2882: 1, 2881: 1, 2867: 1, 2863: 1, 2860: 1, 2859: 1, 2858: 1, 2857: 1, 2854: 1, 2849: 1, 2845: 1, 2843: 1, 2842: 1, 2835: 1, 2834: 1, 2832: 1, 2827: 1, 2826: 1, 2822: 1, 2821: 1, 2819: 1, 2813: 1, 2809: 1, 2808: 1, 2806: 1, 2803: 1, 2797: 1, 2789: 1, 2788: 1, 2785: 1, 2782: 1, 2778: 1, 2777: 1, 2776: 1, 2773: 1, 2762: 1, 2759: 1, 2758: 1, 2754: 1, 2752: 1, 2751: 1, 2749: 1, 2747: 1, 2744: 1, 2742: 1, 2739: 1, 2738: 1, 2737: 1, 2735: 1, 2734: 1, 2731: 1, 2730: 1, 2728: 1, 2726: 1, 2723: 1, 2718: 1, 2716: 1, 2711: 1, 2705: 1, 2704: 1, 2702: 1, 2701: 1, 2700: 1, 2697: 1, 2693: 1, 2692: 1, 2689: 1, 2688: 1, 2684: 1, 2682: 1, 2681: 1, 2680: 1, 2679: 1, 2676: 1, 2674: 1, 2672: 1, 2670: 1, 2669: 1, 2668: 1, 2666: 1, 2665: 1, 2663: 1, 2661: 1, 2660: 1, 2659: 1, 2657: 1, 2656: 1, 2651: 1, 2634: 1, 2633: 1, 2629: 1, 2626: 1, 2624: 1, 2617: 1, 2616: 1, 2614: 1, 2612: 1, 2611: 1, 2609: 1, 2607: 1, 2606: 1, 2605: 1, 2603: 1, 2601: 1, 2596: 1, 2591: 1, 2590: 1, 2589: 1, 2588: 1, 2587: 1, 2572: 1, 2571: 1, 2570: 1, 2567: 1, 2566: 1, 2564: 1, 2561: 1, 2559: 1, 2556: 1, 2550: 1, 2548: 1, 2547: 1, 2540: 1, 2537: 1, 2535: 1, 2534: 1, 2533: 1, 2532: 1, 2531: 1, 2527: 1, 2525: 1, 2524: 1, 2523: 1, 2518: 1, 2517: 1, 2514: 1, 2511: 1, 2510: 1, 2508: 1, 2506: 1, 2505: 1, 2503: 1, 2500: 1, 2499: 1, 2497: 1, 2496: 1, 2493: 1, 2482: 1, 2481: 1, 2480: 1, 2479: 1, 2478: 1, 2474: 1, 2456: 1, 2453: 1, 2452: 1, 2448: 1, 2445: 1, 2440: 1, 2437: 1, 2432: 1, 2430: 1, 2429: 1, 2427: 1, 2425: 1, 2420: 1, 2418: 1, 2409: 1, 2408: 1, 2407: 1, 2395: 1, 2393: 1, 2389: 1, 2388: 1, 2387: 1, 2383: 1, 2382: 1, 2379: 1, 2378: 1, 2375: 1, 2364: 1, 2363: 1, 2361: 1, 2360: 1, 2358: 1, 2356: 1, 2354: 1, 2346: 1, 2345: 1, 2344: 1, 2343: 1, 2342: 1, 2341: 1, 2340: 1, 2332: 1, 2331: 1, 2327: 1, 2325: 1, 2323: 1, 2321: 1, 2320: 1, 2319: 1, 2318: 1, 2316: 1, 2313: 1, 2311: 1, 2308: 1, 2307: 1, 2306: 1, 2301: 1, 2297: 1, 2296: 1, 2295: 1, 2293: 1, 2281: 1, 2277: 1, 2272: 1, 2271: 1, 2269: 1, 2267: 1, 2263: 1, 2256: 1, 2255: 1, 2254: 1, 2252: 1, 2251: 1, 2246: 1, 2243: 1, 2242: 1, 2239: 1, 2237: 1, 2231: 1, 2228: 1, 2227: 1, 2225: 1, 2217: 1, 2216: 1, 2212: 1, 2208: 1, 2207: 1, 2204: 1, 2203: 1, 2201: 1, 2200: 1, 2198: 1, 2196: 1, 2191: 1, 2190: 1, 2188: 1, 2186: 1, 2185: 1, 2180: 1, 2179: 1, 2178: 1, 2177: 1, 2176: 1, 2174: 1, 2171: 1, 2170: 1, 2167: 1, 2166: 1, 2162: 1, 2156: 1, 2155: 1, 2151: 1, 2150: 1, 2149: 1, 2144: 1, 2142: 1, 2140: 1, 2139: 1, 2137: 1, 2133: 1, 2132: 1, 2131: 1, 2130: 1, 2127: 1, 2124: 1, 2123: 1, 2121: 1, 2116: 1, 2114: 1, 2111: 1, 2107: 1, 2105: 1, 2102: 1, 2100: 1, 2099: 1, 2096: 1, 2094: 1, 2093: 1, 2091: 1, 2088: 1, 2087: 1, 2084: 1, 2081: 1, 2080: 1, 2079: 1, 2076: 1, 2072: 1, 2070: 1, 2068: 1, 2067: 1, 2064: 1, 2062: 1, 2060: 1, 2059: 1, 2058: 1, 2050: 1, 2045: 1, 2042: 1, 2041: 1, 2038: 1, 2033: 1, 2026: 1, 2025: 1, 2017: 1, 2016: 1, 2012: 1, 2011: 1, 2008: 1, 2006: 1, 2004: 1, 2003: 1, 2002: 1, 2000: 1, 1998: 1, 1991: 1, 1987: 1, 1979: 1, 1978: 1, 1973: 1, 1972: 1, 1971: 1, 1970: 1, 1967: 1, 1966: 1, 1964: 1, 1961: 1, 1960: 1, 1958: 1, 1957: 1, 1956: 1, 1946: 1, 1940: 1, 1928: 1, 1926: 1, 1918: 1, 1916: 1, 1915: 1, 1914: 1, 1908: 1, 1904: 1, 1903: 1, 1898: 1, 1897: 1, 1892: 1, 1886: 1, 1885: 1, 1882: 1, 1878: 1, 1876: 1, 1875: 1, 1871: 1, 1868: 1, 1867: 1, 1866: 1, 1864: 1, 1862: 1, 1860: 1, 1858: 1, 1855: 1, 1854: 1, 1852: 1, 1846: 1, 1840: 1, 1835: 1, 1834: 1, 1832: 1, 1831: 1, 1828: 1, 1827: 1, 1818: 1, 1810: 1, 1806: 1, 1804: 1, 1803: 1, 1802: 1, 1790: 1, 1788: 1, 1786: 1, 1781: 1, 1778: 1, 1775: 1, 1766: 1, 1762: 1, 1760: 1, 1759: 1, 1758: 1, 1757: 1, 1756: 1, 1753: 1, 1751: 1, 1750: 1, 1745: 1, 1740: 1, 1739: 1, 1735: 1, 1733: 1, 1730: 1, 1729: 1, 1728: 1, 1725: 1, 1724: 1, 1722: 1, 1718: 1, 1717: 1, 1716: 1, 1714: 1, 1712: 1, 1711: 1, 1706: 1, 1704: 1, 1701: 1, 1700: 1, 1696: 1, 1694: 1, 1693: 1, 1688: 1, 1687: 1, 1680: 1, 1678: 1, 1675: 1, 1674: 1, 1669: 1, 1661: 1, 1659: 1, 1656: 1, 1652: 1, 1651: 1, 1649: 1, 1648: 1, 1645: 1, 1644: 1, 1642: 1, 1641: 1, 1638: 1, 1637: 1, 1636: 1, 1633: 1, 1629: 1, 1624: 1, 1620: 1, 1619: 1, 1618: 1, 1613: 1, 1598: 1, 1596: 1, 1594: 1, 1593: 1, 1591: 1, 1590: 1, 1587: 1, 1586: 1, 1579: 1, 1577: 1, 1576: 1, 1573: 1, 1571: 1, 1568: 1, 1561: 1, 1560: 1, 1559: 1, 1557: 1, 1556: 1, 1555: 1, 1554: 1, 1552: 1, 1550: 1, 1548: 1, 1544: 1, 1543: 1, 1542: 1, 1540: 1, 1537: 1, 1535: 1, 1534: 1, 1531: 1, 1530: 1, 1527: 1, 1526: 1, 1525: 1, 1519: 1, 1516: 1, 1514: 1, 1509: 1, 1501: 1, 1494: 1, 1493: 1, 1492: 1, 1491: 1, 1488: 1, 1486: 1, 1484: 1, 1482: 1, 1477: 1, 1471: 1, 1467: 1, 1464: 1, 1463: 1, 1462: 1, 1461: 1, 1459: 1, 1458: 1, 1456: 1, 1454: 1, 1447: 1, 1446: 1, 1443: 1, 1441: 1, 1439: 1, 1437: 1, 1435: 1, 1432: 1, 1430: 1, 1428: 1, 1422: 1, 1419: 1, 1418: 1, 1416: 1, 1414: 1, 1410: 1, 1408: 1, 1407: 1, 1397: 1, 1395: 1, 1391: 1, 1390: 1, 1386: 1, 1385: 1, 1383: 1, 1382: 1, 1376: 1, 1373: 1, 1372: 1, 1370: 1, 1364: 1, 1363: 1, 1359: 1, 1355: 1, 1353: 1, 1352: 1, 1351: 1, 1350: 1, 1349: 1, 1348: 1, 1345: 1, 1344: 1, 1341: 1, 1331: 1, 1326: 1, 1322: 1, 1317: 1, 1316: 1, 1315: 1, 1314: 1, 1310: 1, 1298: 1, 1296: 1, 1291: 1, 1284: 1, 1283: 1, 1278: 1, 1276: 1, 1272: 1, 1267: 1, 1259: 1, 1257: 1, 1255: 1, 1254: 1, 1252: 1, 1245: 1, 1242: 1, 1240: 1, 1232: 1, 1218: 1, 1207: 1, 1205: 1, 1203: 1, 1201: 1, 1189: 1, 1187: 1, 1182: 1, 1181: 1, 1179: 1, 1176: 1, 1173: 1, 1172: 1, 1171: 1, 1170: 1, 1162: 1, 1161: 1, 1159: 1, 1156: 1, 1147: 1, 1144: 1, 1138: 1, 1137: 1, 1136: 1, 1126: 1, 1124: 1, 1121: 1, 1118: 1, 1109: 1, 1105: 1, 1101: 1, 1099: 1, 1089: 1, 1086: 1, 1082: 1, 1080: 1, 1078: 1, 1077: 1, 1071: 1, 1069: 1, 1068: 1, 1059: 1, 1058: 1, 1056: 1, 1055: 1, 1042: 1, 1038: 1, 1037: 1, 1031: 1, 1021: 1, 1016: 1, 1013: 1, 1010: 1, 1009: 1, 1008: 1, 1002: 1, 991: 1, 980: 1, 979: 1, 977: 1, 968: 1, 963: 1, 928: 1, 925: 1, 917: 1, 916: 1, 905: 1, 901: 1, 895: 1, 887: 1, 884: 1, 867: 1, 846: 1, 839: 1, 828: 1, 822: 1, 821: 1, 712: 1, 643: 1, 615: 1})\n"
     ]
    }
   ],
   "source": [
    "train_text_feature_onehotCoding = normalize(train_text_feature_onehotCoding, axis=0)\n",
    "test_text_feature_onehotCoding = text_vectorizer.transform(X_test['TEXT'])\n",
    "test_text_feature_onehotCoding = normalize(test_text_feature_onehotCoding, axis=0)\n",
    "\n",
    "sorted_text_fea_dict = dict(sorted(text_fea_dict.items(), key=lambda x: x[1] , reverse=True))\n",
    "sorted_text_occur = np.array(list(sorted_text_fea_dict.values()))\n",
    "print(Counter(sorted_text_occur))"
   ]
  },
  {
   "cell_type": "code",
   "execution_count": 75,
   "id": "33c6f82d",
   "metadata": {},
   "outputs": [
    {
     "data": {
      "text/plain": [
       "['textVectorizer.pkl']"
      ]
     },
     "execution_count": 75,
     "metadata": {},
     "output_type": "execute_result"
    }
   ],
   "source": [
    "import joblib\n",
    "joblib.dump(train_text_feature_onehotCoding, 'textVectorizer.pkl')"
   ]
  },
  {
   "cell_type": "code",
   "execution_count": 76,
   "id": "70418d0d",
   "metadata": {},
   "outputs": [
    {
     "name": "stdout",
     "output_type": "stream",
     "text": [
      "One hot encoding features :\n",
      "(number of data points * number of features) in train data =  (6549, 140587)\n",
      "(number of data points * number of features) in test data =  (2807, 140587)\n"
     ]
    }
   ],
   "source": [
    "train_gene_var_onehotCoding = hstack((train_gene_feature_onehotCoding,train_variation_feature_onehotCoding))\n",
    "test_gene_var_onehotCoding = hstack((test_gene_feature_onehotCoding,test_variation_feature_onehotCoding))\n",
    "\n",
    "\n",
    "train_x_onehotCoding = hstack((train_gene_var_onehotCoding, train_text_feature_onehotCoding)).tocsr()\n",
    "y_tarin = np.array(list(df_data['Class']))\n",
    "\n",
    "test_x_onehotCoding = hstack((test_gene_var_onehotCoding, test_text_feature_onehotCoding)).tocsr()\n",
    "\n",
    "\n",
    "\n",
    "print(\"One hot encoding features :\")\n",
    "print(\"(number of data points * number of features) in train data = \", train_x_onehotCoding.shape)\n",
    "print(\"(number of data points * number of features) in test data = \", test_x_onehotCoding.shape)"
   ]
  },
  {
   "cell_type": "code",
   "execution_count": 77,
   "id": "cb291689",
   "metadata": {},
   "outputs": [],
   "source": [
    "###### over sampling with SMOTE######\n",
    "sm = SMOTE()\n",
    "train_x_onehotCoding_smt,y_train_smt=sm.fit_resample(train_x_onehotCoding,y_train)"
   ]
  },
  {
   "cell_type": "code",
   "execution_count": 78,
   "id": "b509bce6",
   "metadata": {},
   "outputs": [],
   "source": [
    "import pickle"
   ]
  },
  {
   "cell_type": "code",
   "execution_count": null,
   "id": "d2c95ede",
   "metadata": {},
   "outputs": [],
   "source": [
    "# Initialize SVM model\n",
    "svm_model = SVC()  \n",
    "\n",
    "# Train the SVM model\n",
    "svm_model.fit(train_x_onehotCoding_smt,y_train_smt)\n",
    "\n",
    "# Predictions on training data\n",
    "train_predictions = svm_model.predict(train_x_onehotCoding_smt)\n",
    "\n",
    "# Predictions on test data\n",
    "test_predictions = svm_model.predict(test_x_onehotCoding)\n",
    "\n",
    "# Accuracy on training data\n",
    "train_accuracy = accuracy_score(y_train_smt, train_predictions)\n",
    "print(\"Training Accuracy:\", train_accuracy)\n",
    "\n",
    "test_accuracy = accuracy_score(y_test, test_predictions)\n",
    "print(\"Training Accuracy:\", train_accuracy)\n",
    "                                             \n",
    "# true_test= pd.read_csv(\"stage1_solution_filtered.csv\")\n",
    "# test_log_loss = log_loss(true_test, test_predictions)\n",
    "# print(\"Log Loss on Test Data:\", test_log_loss)"
   ]
  },
  {
   "cell_type": "code",
   "execution_count": null,
   "id": "2df82c80",
   "metadata": {},
   "outputs": [],
   "source": [
    "test_accuracy = accuracy_score(y_test, test_predictions)\n",
    "print(\"Test Accuracy:\", test_accuracy)"
   ]
  },
  {
   "cell_type": "code",
   "execution_count": null,
   "id": "df93491f",
   "metadata": {},
   "outputs": [],
   "source": [
    "pickle.dump(svm_model, open('model.pkl', 'wb'))"
   ]
  },
  {
   "cell_type": "code",
   "execution_count": 88,
   "id": "fad3f48d",
   "metadata": {},
   "outputs": [
    {
     "name": "stdout",
     "output_type": "stream",
     "text": [
      "Enter gene: FAM58A\n",
      "Enter variation: Truncating Mutations\n",
      "Enter text: Cyclin-dependent kinases (CDKs) regulate a variety of fundamental cellular processes. CDK10 stands out as one of the last orphan CDKs for which no activating cyclin has been identified and no kinase activity revealed. Previous work has shown that CDK10 silencing increases ETS2 (v-ets erythroblastosis virus E26 oncogene homolog 2)-driven activation of the MAPK pathway, which confers tamoxifen resistance to breast cancer cells. The precise mechanisms by which CDK10 modulates ETS2 activity, and more generally the functions of CDK10, remain elusive. Here we demonstrate that CDK10 is a cyclin-dependent kinase by identifying cyclin M as an activating cyclin. Cyclin M, an orphan cyclin, is the product of FAM58A, whose mutations cause STAR syndrome, a human developmental anomaly whose features include toe syndactyly, telecanthus, and anogenital and renal malformations. We show that STAR syndrome-associated cyclin M mutants are unable to interact with CDK10. Cyclin M silencing phenocopies CDK10 silencing in increasing c-Raf and in conferring tamoxifen resistance to breast cancer cells. CDK10/cyclin M phosphorylates ETS2 in vitro, and in cells it positively controls ETS2 degradation by the proteasome. ETS2 protein levels are increased in cells derived from a STAR patient, and this increase is attributable to decreased cyclin M levels. Altogether, our results reveal an additional regulatory mechanism for ETS2, which plays key roles in cancer and development. They also shed light on the molecular mechanisms underlying STAR syndrome.Cyclin-dependent kinases (CDKs) play a pivotal role in the control of a number of fundamental cellular processes (1). The human genome contains 21 genes encoding proteins that can be considered as members of the CDK family owing to their sequence similarity with bona fide CDKs, those known to be activated by cyclins (2). Although discovered almost 20 y ago (3, 4), CDK10 remains one of the two CDKs without an identified cyclin partner. This knowledge gap has largely impeded the exploration of its biological functions. CDK10 can act as a positive cell cycle regulator in some cells (5, 6) or as a tumor suppressor in others (7, 8). CDK10 interacts with the ETS2 (v-ets erythroblastosis virus E26 oncogene homolog 2) transcription factor and inhibits its transcriptional activity through an unknown mechanism (9). CDK10 knockdown derepresses ETS2, which increases the expression of the c-Raf protein kinase, activates the MAPK pathway, and induces resistance of MCF7 cells to tamoxifen (6).Here, we deorphanize CDK10 by identifying cyclin M, the product of FAM58A, as a binding partner. Mutations in this gene that predict absence or truncation of cyclin M are associated with STAR syndrome, whose features include toe syndactyly, telecanthus, and anogenital and renal malformations in heterozygous females (10). However, both the functions of cyclin M and the pathogenesis of STAR syndrome remain unknown. We show that a recombinant CDK10/cyclin M heterodimer is an active protein kinase that phosphorylates ETS2 in vitro. Cyclin M silencing phenocopies CDK10 silencing in increasing c-Raf and phospho-ERK expression levels and in inducing tamoxifen resistance in estrogen receptor (ER)+ breast cancer cells. We show that CDK10/cyclin M positively controls ETS2 degradation by the proteasome, through the phosphorylation of two neighboring serines. Finally, we detect an increased ETS2 expression level in cells derived from a STAR patient, and we demonstrate that it is attributable to the decreased cyclin M expression level observed in these cells.Previous SectionNext SectionResultsA yeast two-hybrid (Y2H) screen unveiled an interaction signal between CDK10 and a mouse protein whose C-terminal half presents a strong sequence homology with the human FAM58A gene product [whose proposed name is cyclin M (11)]. We thus performed Y2H mating assays to determine whether human CDK10 interacts with human cyclin M (Fig. 1 A–C). The longest CDK10 isoform (P1) expressed as a bait protein produced a strong interaction phenotype with full-length cyclin M (expressed as a prey protein) but no detectable phenotype with cyclin D1, p21 (CIP1), and Cdi1 (KAP), which are known binding partners of other CDKs (Fig. 1B). CDK1 and CDK3 also produced Y2H signals with cyclin M, albeit notably weaker than that observed with CDK10 (Fig. 1B). An interaction phenotype was also observed between full-length cyclin M and CDK10 proteins expressed as bait and prey, respectively (Fig. S1A). We then tested different isoforms of CDK10 and cyclin M originating from alternative gene splicing, and two truncated cyclin M proteins corresponding to the hypothetical products of two mutated FAM58A genes found in STAR syndrome patients (10). None of these shorter isoforms produced interaction phenotypes (Fig. 1 A and C and Fig. S1A).Fig. 1.In a new window Download PPTFig. 1.CDK10 and cyclin M form an interaction complex. (A) Schematic representation of the different protein isoforms analyzed by Y2H assays. Amino acid numbers are indicated. Black boxes indicate internal deletions. The red box indicates a differing amino acid sequence compared with CDK10 P1. (B) Y2H assay between a set of CDK proteins expressed as baits (in fusion to the LexA DNA binding domain) and CDK interacting proteins expressed as preys (in fusion to the B42 transcriptional activator). pEG202 and pJG4-5 are the empty bait and prey plasmids expressing LexA and B42, respectively. lacZ was used as a reporter gene, and blue yeast are indicative of a Y2H interaction phenotype. (C) Y2H assay between the different CDK10 and cyclin M isoforms. The amino-terminal region of ETS2, known to interact with CDK10 (9), was also assayed. (D) Western blot analysis of Myc-CDK10 (wt or kd) and CycM-V5-6His expression levels in transfected HEK293 cells. (E) Western blot analysis of Myc-CDK10 (wt or kd) immunoprecipitates obtained using the anti-Myc antibody. “Inputs” correspond to 10 μg total lysates obtained from HEK293 cells coexpressing Myc-CDK10 (wt or kd) and CycM-V5-6His. (F) Western blot analysis of immunoprecipitates obtained using the anti-CDK10 antibody or a control goat antibody, from human breast cancer MCF7 cells. “Input” corresponds to 30 μg MCF7 total cell lysates. The lower band of the doublet observed on the upper panel comigrates with the exogenously expressed untagged CDK10 and thus corresponds to endogenous CDK10. The upper band of the doublet corresponds to a nonspecific signal, as demonstrated by it insensitivity to either overexpression of CDK10 (as seen on the left lane) or silencing of CDK10 (Fig. S2B). Another experiment with a longer gel migration is shown in Fig. S1D.Next we examined the ability of CDK10 and cyclin M to interact when expressed in human cells (Fig. 1 D and E). We tested wild-type CDK10 (wt) and a kinase dead (kd) mutant bearing a D181A amino acid substitution that abolishes ATP binding (12). We expressed cyclin M-V5-6His and/or Myc-CDK10 (wt or kd) in a human embryonic kidney cell line (HEK293). The expression level of cyclin M-V5-6His was significantly increased upon coexpression with Myc-CDK10 (wt or kd) and, to a lesser extent, that of Myc-CDK10 (wt or kd) was increased upon coexpression with cyclin M-V5-6His (Fig. 1D). We then immunoprecipitated Myc-CDK10 proteins and detected the presence of cyclin M in the CDK10 (wt) and (kd) immunoprecipitates only when these proteins were coexpressed pair-wise (Fig. 1E). We confirmed these observations by detecting the presence of Myc-CDK10 in cyclin M-V5-6His immunoprecipitates (Fig. S1B). These experiments confirmed the lack of robust interaction between the CDK10.P2 isoform and cyclin M (Fig. S1C). To detect the interaction between endogenous proteins, we performed immunoprecipitations on nontransfected MCF7 cells derived from a human breast cancer. CDK10 and cyclin M antibodies detected their cognate endogenous proteins by Western blotting. We readily detected cyclin M in immunoprecipitates obtained with the CDK10 antibody but not with a control antibody (Fig. 1F). These results confirm the physical interaction between CDK10 and cyclin M in human cells.To unveil a hypothesized CDK10/cyclin M protein kinase activity, we produced GST-CDK10 and StrepII-cyclin M fusion proteins in insect cells, either individually or in combination. We observed that GST-CDK10 and StrepII-cyclin M copurified, thus confirming their interaction in yet another cellular model (Fig. 2A). We then performed in vitro kinase assays with purified proteins, using histone H1 as a generic substrate. Histone H1 phosphorylation was detected only from lysates of cells coexpressing GST-CDK10 and StrepII-cyclin M. No phosphorylation was detected when GST-CDK10 or StrepII-cyclin M were expressed alone, or when StrepII-cyclin M was coexpressed with GST-CDK10(kd) (Fig. 2A). Next we investigated whether ETS2, which is known to interact with CDK10 (9) (Fig. 1C), is a phosphorylation substrate of CDK10/cyclin M. We detected strong phosphorylation of ETS2 by the GST-CDK10/StrepII-cyclin M purified heterodimer, whereas no phosphorylation was detected using GST-CDK10 alone or GST-CDK10(kd)/StrepII-cyclin M heterodimer (Fig. 2B).Fig. 2.In a new window Download PPTFig. 2.CDK10 is a cyclin M-dependent protein kinase. (A) In vitro protein kinase assay on histone H1. Lysates from insect cells expressing different proteins were purified on a glutathione Sepharose matrix to capture GST-CDK10(wt or kd) fusion proteins alone, or in complex with STR-CycM fusion protein. Purified protein expression levels were analyzed by Western blots (Top and Upper Middle). The kinase activity was determined by autoradiography of histone H1, whose added amounts were visualized by Coomassie staining (Lower Middle and Bottom). (B) Same as in A, using purified recombinant 6His-ETS2 as a substrate.CDK10 silencing has been shown to increase ETS2-driven c-RAF transcription and to activate the MAPK pathway (6). We investigated whether cyclin M is also involved in this regulatory pathway. To aim at a highly specific silencing, we used siRNA pools (mix of four different siRNAs) at low final concentration (10 nM). Both CDK10 and cyclin M siRNA pools silenced the expression of their cognate targets (Fig. 3 A and C and Fig. S2) and, interestingly, the cyclin M siRNA pool also caused a marked decrease in CDK10 protein level (Fig. 3A and Fig. S2B). These results, and those shown in Fig. 1D, suggest that cyclin M binding stabilizes CDK10. Cyclin M silencing induced an increase in c-Raf protein and mRNA levels (Fig. 3 B and C) and in phosphorylated ERK1 and ERK2 protein levels (Fig. S3B), similarly to CDK10 silencing. As expected from these effects (6), CDK10 and cyclin M silencing both decreased the sensitivity of ER+ MCF7 cells to tamoxifen, to a similar extent. The combined silencing of both genes did not result in a higher resistance to the drug (Fig. S3C). Altogether, these observations demonstrate a functional interaction between cyclin M and CDK10, which negatively controls ETS2.Fig. 3.In a new window Download PPTFig. 3.Cyclin M silencing up-regulates c-Raf expression. (A) Western blot analysis of endogenous CDK10 and cyclin M expression levels in MCF7 cells, in response to siRNA-mediated gene silencing. (B) Western blot analysis of endogenous c-Raf expression levels in MCF7 cells, in response to CDK10 or cyclin M silencing. A quantification is shown in Fig. S3A. (C) Quantitative RT-PCR analysis of CDK10, cyclin M, and c-Raf mRNA levels, in response to CDK10 (Upper) or cyclin M (Lower) silencing. **P ≤ 0.01; ***P ≤ 0.001.We then wished to explore the mechanism by which CDK10/cyclin M controls ETS2. ETS2 is a short-lived protein degraded by the proteasome (13). A straightforward hypothesis is that CDK10/cyclin M positively controls ETS2 degradation. We thus examined the impact of CDK10 or cyclin M silencing on ETS2 expression levels. The silencing of CDK10 and that of cyclin M caused an increase in the expression levels of an exogenously expressed Flag-ETS2 protein (Fig. S4A), as well as of the endogenous ETS2 protein (Fig. 4A). This increase is not attributable to increased ETS2 mRNA levels, which marginally fluctuated in response to CDK10 or cyclin M silencing (Fig. S4B). We then examined the expression levels of the Flag-tagged ETS2 protein when expressed alone or in combination with Myc-CDK10 or -CDK10(kd), with or without cyclin M-V5-6His. Flag-ETS2 was readily detected when expressed alone or, to a lesser extent, when coexpressed with CDK10(kd). However, its expression level was dramatically decreased when coexpressed with CDK10 alone, or with CDK10 and cyclin M (Fig. 4B). These observations suggest that endogenous cyclin M levels are in excess compared with those of CDK10 in MCF7 cells, and they show that the major decrease in ETS2 levels observed upon CDK10 coexpression involves CDK10 kinase activity. Treatment of cells coexpressing Flag-ETS2, CDK10, and cyclin M with the proteasome inhibitor MG132 largely rescued Flag-ETS2 expression levels (Fig. 4B).Fig. 4.In a new window Download PPTFig. 4.CDK10/cyclin M controls ETS2 stability in human cancer derived cells. (A) Western blot analysis of endogenous ETS2 expression levels in MCF7 cells, in response to siRNA-mediated CDK10 and/or cyclin M silencing. A quantification is shown in Fig. S4B. (B) Western blot analysis of exogenously expressed Flag-ETS2 protein levels in MCF7 cells cotransfected with empty vectors or coexpressing Myc-CDK10 (wt or kd), or Myc-CDK10/CycM-V5-6His. The latter cells were treated for 16 h with the MG132 proteasome inhibitor. Proper expression of CDK10 and cyclin M tagged proteins was verified by Western blot analysis. (C and D) Western blot analysis of expression levels of exogenously expressed Flag-ETS2 wild-type or mutant proteins in MCF7 cells, in the absence of (C) or in response to (D) Myc-CDK10/CycM-V5-6His expression. Quantifications are shown in Fig. S4 C and D.A mass spectrometry analysis of recombinant ETS2 phosphorylated by CDK10/cyclin M in vitro revealed the existence of multiple phosphorylated residues, among which are two neighboring phospho-serines (at positions 220 and 225) that may form a phosphodegron (14) (Figs. S5–S8). To confirm this finding, we compared the phosphorylation level of recombinant ETS2wt with that of ETS2SASA protein, a mutant bearing alanine substitutions of these two serines. As expected from the existence of multiple phosphorylation sites, we detected a small but reproducible, significant decrease of phosphorylation level of ETS2SASA compared with ETS2wt (Fig. S9), thus confirming that Ser220/Ser225 are phosphorylated by CDK10/cyclin M. To establish a direct link between ETS2 phosphorylation by CDK10/cyclin M and degradation, we examined the expression levels of Flag-ETS2SASA. In the absence of CDK10/cyclin M coexpression, it did not differ significantly from that of Flag-ETS2. This is contrary to that of Flag-ETS2DBM, bearing a deletion of the N-terminal destruction (D-) box that was previously shown to be involved in APC-Cdh1–mediated degradation of ETS2 (13) (Fig. 4C). However, contrary to Flag-ETS2 wild type, the expression level of Flag-ETS2SASA remained insensitive to CDK10/cyclin M coexpression (Fig. 4D). Altogether, these results suggest that CDK10/cyclin M directly controls ETS2 degradation through the phosphorylation of these two serines.Finally, we studied a lymphoblastoid cell line derived from a patient with STAR syndrome, bearing FAM58A mutation c.555+1G>A, predicted to result in aberrant splicing (10). In accordance with incomplete skewing of X chromosome inactivation previously found in this patient, we detected a decreased expression level of cyclin M protein in the STAR cell line, compared with a control lymphoblastoid cell line. In line with our preceding observations, we detected an increased expression level of ETS2 protein in the STAR cell line compared with the control (Fig. 5A and Fig. S10A). We then examined by quantitative RT-PCR the mRNA expression levels of the corresponding genes. The STAR cell line showed a decreased expression level of cyclin M mRNA but an expression level of ETS2 mRNA similar to that of the control cell line (Fig. 5B). To demonstrate that the increase in ETS2 protein expression is indeed a result of the decreased cyclin M expression observed in the STAR patient-derived cell line, we expressed cyclin M-V5-6His in this cell line. This expression caused a decrease in ETS2 protein levels (Fig. 5C).Fig. 5.In a new window Download PPTFig. 5.Decreased cyclin M expression in STAR patient-derived cells results in increased ETS2 protein level. (A) Western blot analysis of cyclin M and ETS2 protein levels in a STAR patient-derived lymphoblastoid cell line and in a control lymphoblastoid cell line, derived from a healthy individual. A quantification is shown in Fig. S10A. (B) Quantitative RT-PCR analysis of cyclin M and ETS2 mRNA levels in the same cells. ***P ≤ 0.001. (C) Western blot analysis of ETS2 protein levels in the STAR patient-derived lymphoblastoid cell line transfected with an empty vector or a vector directing the expression of cyclin M-V5-6His. Another Western blot revealing endogenously and exogenously expressed cyclin M levels is shown in Fig. S10B. A quantification of ETS2 protein levels is shown in Fig. S10C.Previous SectionNext SectionDiscussionIn this work, we unveil the interaction between CDK10, the last orphan CDK discovered in the pregenomic era (2), and cyclin M, the only cyclin associated with a human genetic disease so far, and whose functions remain unknown (10). The closest paralogs of CDK10 within the CDK family are the CDK11 proteins, which interact with L-type cyclins (15). Interestingly, the closest paralog of these cyclins within the cyclin family is cyclin M (Fig. S11). The fact that none of the shorter CDK10 isoforms interact robustly with cyclin M suggests that alternative splicing of the CDK10 gene (16, 17) plays an important role in regulating CDK10 functions.The functional relevance of the interaction between CDK10 and cyclin M is supported by different observations. Both proteins seem to enhance each other’s stability, as judged from their increased expression levels when their partner is exogenously coexpressed (Fig. 1D) and from the much reduced endogenous CDK10 expression level observed in response to cyclin M silencing (Fig. 3A and Fig. S2B). CDK10 is subject to ubiquitin-mediated degradation (18). Our observations suggest that cyclin M protects CDK10 from such degradation and that it is the only cyclin partner of CDK10, at least in MCF7 cells. They also suggest that cyclin M stability is enhanced upon binding to CDK10, independently from its kinase activity, as seen for cyclin C and CDK8 (19). We uncover a cyclin M-dependent CDK10 protein kinase activity in vitro, thus demonstrating that this protein, which was named a CDK on the sole basis of its amino acid sequence, is indeed a genuine cyclin-dependent kinase. Our Y2H assays reveal that truncated cyclin M proteins corresponding to the hypothetical products of two STAR syndrome-associated FAM58A mutations do not produce an interaction phenotype with CDK10. Hence, regardless of whether these mutated mRNAs undergo nonsense-mediated decay (as suggested from the decreased cyclin M mRNA levels in STAR cells, shown in Fig. 5B) or give rise to truncated cyclin M proteins, females affected by the STAR syndrome must exhibit compromised CDK10/cyclin M kinase activity at least in some tissues and during specific developmental stages.We show that ETS2, a known interactor of CDK10, is a phosphorylation substrate of CDK10/cyclin M in vitro and that CDK10/cyclin M kinase activity positively controls ETS2 degradation by the proteasome. This control seems to be exerted through a very fine mechanism, as judged from the sensitivity of ETS2 levels to partially decreased CDK10 and cyclin M levels, achieved in MCF7 cells and observed in STAR cells, respectively. These findings offer a straightforward explanation for the already reported up-regulation of ETS2-driven transcription of c-RAF in response to CDK10 silencing (6). We bring evidence that CDK10/cyclin M directly controls ETS2 degradation through the phosphorylation of two neighboring serines, which may form a noncanonical β-TRCP phosphodegron (DSMCPAS) (14). Because none of these two serines precede a proline, they do not conform to usual CDK phosphorylation sites. However, multiple so-called transcriptional CDKs (CDK7, -8, -9, and -11) (to which CDK10 may belong; Fig. S11) have been shown to phosphorylate a variety of motifs in a non–proline-directed fashion, especially in the context of molecular docking with the substrate (20). Here, it can be hypothesized that the high-affinity interaction between CDK10 and the Pointed domain of ETS2 (6, 9) (Fig. 1C) would allow docking-mediated phosphorylation of atypical sites. The control of ETS2 degradation involves a number of players, including APC-Cdh1 (13) and the cullin-RING ligase CRL4 (21). The formal identification of the ubiquitin ligase involved in the CDK10/cyclin M pathway and the elucidation of its concerted action with the other ubiquitin ligases to regulate ETS2 degradation will require further studies.Our results present a number of significant biological and medical implications. First, they shed light on the regulation of ETS2, which plays an important role in development (22) and is frequently deregulated in many cancers (23). Second, our results contribute to the understanding of the molecular mechanisms causing tamoxifen resistance associated with reduced CDK10 expression levels, and they suggest that, like CDK10 (6), cyclin M could also be a predictive clinical marker of hormone therapy response of ERα-positive breast cancer patients. Third, our findings offer an interesting hypothesis on the molecular mechanisms underlying STAR syndrome. Ets2 transgenic mice showing a less than twofold overexpression of Ets2 present severe cranial abnormalities (24), and those observed in STAR patients could thus be caused at least in part by increased ETS2 protein levels. Another expected consequence of enhanced ETS2 expression levels would be a decreased risk to develop certain types of cancers and an increased risk to develop others. Studies on various mouse models (including models of Down syndrome, in which three copies of ETS2 exist) have revealed that ETS2 dosage can repress or promote tumor growth and, hence, that ETS2 exerts noncell autonomous functions in cancer (25). Intringuingly, one of the very few STAR patients identified so far has been diagnosed with a nephroblastoma (26). Finally, our findings will facilitate the general exploration of the biological functions of CDK10 and, in particular, its role in the control of cell division. Previous studies have suggested either a positive role in cell cycle control (5, 6) or a tumor-suppressive activity in some cancers (7, 8). The severe growth retardation exhibited by STAR patients strongly suggests that CDK10/cyclin M plays an important role in the control of cell proliferation.Previous SectionNext SectionMaterials and MethodsCloning of CDK10 and cyclin M cDNAs, plasmid constructions, tamoxifen response analysis, quantitative RT-PCR, mass spectrometry experiments, and antibody production are detailed in SI Materials and Methods.Yeast Two-Hybrid Interaction Assays. We performed yeast interaction mating assays as previously described (27).Mammalian Cell Cultures and Transfections. We grew human HEK293 and MCF7 cells in DMEM supplemented with 10% (vol/vol) FBS (Invitrogen), and we grew lymphoblastoid cells in RPMI 1640 GlutaMAX supplemented with 15% (vol/vol) FBS. We transfected HEK293 and MCF7 cells using Lipofectamine 2000 (Invitrogen) for plasmids, Lipofectamine RNAiMAX (Invitrogen) for siRNAs, and Jetprime (Polyplus) for plasmids/siRNAs combinations according to the manufacturers’ instructions. We transfected lymphoblastoid cells by electroporation (Neon, Invitrogen). For ETS2 stability studies we treated MCF7 cells 32 h after transfection with 10 μM MG132 (Fisher Scientific) for 16 h.Coimmunoprecipitation and Western Blot Experiments. We collected cells by scraping in PBS (or centrifugation for lymphoblastoid cells) and lysed them by sonication in a lysis buffer containing 60 mM β-glycerophosphate, 15 mM p-nitrophenylphosphate, 25 mM 3-(N-morpholino)propanesulfonic acid (Mops) (pH 7.2), 15 mM EGTA, 15 mM MgCl2, 1 mM Na vanadate, 1 mM NaF, 1mM phenylphosphate, 0.1% Nonidet P-40, and a protease inhibitor mixture (Roche). We spun the lysates 15 min at 20,000 × g at 4 °C, collected the supernatants, and determined the protein content using a Bradford assay. We performed the immunoprecipitation experiments on 500 μg of total proteins, in lysis buffer. We precleared the lysates with 20 μL of protein A or G-agarose beads, incubated 1 h 4 °C on a rotating wheel. We added 5 μg of antibody to the supernatants, incubated 1 h 4 °C on a rotating wheel, added 20 μL of protein A or G-agarose beads, and incubated 1 h 4 °C on a rotating wheel. We collected the beads by centrifugation 30 s at 18,000 × g at 4 °C and washed three times in a bead buffer containing 50 mM Tris (pH 7.4), 5 mM NaF, 250 mM NaCl, 5 mM EDTA, 5 mM EGTA, 0.1% Nonidet P-40, and a protease inhibitor coktail (Roche). We directly added sample buffer to the washed pellets, heat-denatured the proteins, and ran the samples on 10% Bis-Tris SDS/PAGE. We transferred the proteins onto Hybond nitrocellulose membranes and processed the blots according to standard procedures. For Western blot experiments, we used the following primary antibodies: anti-Myc (Abcam ab9106, 1:2,000), anti-V5 (Invitrogen R960, 1:5,000), anti-tubulin (Santa Cruz Biotechnology B-7, 1:500), anti-CDK10 (Covalab pab0847p, 1:500 or Santa Cruz Biotechnology C-19, 1:500), anti-CycM (home-made, dilution 1:500 or Covalab pab0882-P, dilution 1:500), anti-Raf1 (Santa Cruz Biotechnology C-20, 1:1,000), anti-ETS2 (Santa Cruz Biotechnology C-20, 1:1,000), anti-Flag (Sigma F7425, 1:1,000), and anti-actin (Sigma A5060, 1:5,000). We used HRP-coupled anti-goat (Santa Cruz Biotechnology SC-2033, dilution 1:2,000), anti-mouse (Bio-Rad 170–6516, dilution 1:3,000) or anti-rabbit (Bio-Rad 172–1019, 1:5,000) as secondary antibodies. We revealed the blots by enhanced chemiluminescence (SuperSignal West Femto, Thermo Scientific).Production and Purification of Recombinant Proteins.GST-CDK10(kd)/StrepII-CycM. We generated recombinant bacmids in DH10Bac Escherichia coli and baculoviruses in Sf9 cells using the Bac-to-Bac system, as described by the provider (Invitrogen). We infected Sf9 cells with GST-CDK10- (or GST-CDK10kd)-producing viruses, or coinfected the cells with StrepII-CycM–producing viruses, and we collected the cells 72 h after infection. To purify GST-fusion proteins, we spun 250 mL cells and resuspended the pellet in 40 mL lysis buffer (PBS, 250 mM NaCl, 0.5% Nonidet P-40, 50 mM NaF, 10 mM β-glycerophosphate, and 0.3 mM Na-vanadate) containing a protease inhibitor mixture (Roche). We lysed the cells by sonication, spun the lysate 30 min at 15,000 × g, collected the soluble fraction, and added it to a 1-mL glutathione-Sepharose matrix. We incubated 1 h at 4 °C, washed four times with lysis buffer, one time with kinase buffer A (see below), and finally resuspended the beads in 100 μL kinase buffer A containing 10% (vol/vol) glycerol for storage.6His-ETS2. We transformed Origami2 DE3 (Novagen) with the 6His-ETS2 expression vector. We induced expression with 0.2 mM isopropyl-β-d-1-thiogalactopyranoside for 3 h at 22 °C. To purify 6His-ETS2, we spun 50 mL cells and resuspended the pellet in 2 mL lysis buffer (PBS, 300 mM NaCl, 10 mM Imidazole, 1 mM DTT, and 0.1% Nonidet P-40) containing a protease inhibitor mixture without EDTA (Roche). We lysed the cells at 1.6 bar using a cell disruptor and spun the lysate 10 min at 20,000 × g. We collected the soluble fraction and added it to 200 μL Cobalt beads (Thermo Scientific). After 1 h incubation at 4 °C on a rotating wheel, we washed four times with lysis buffer. To elute, we incubated beads 30 min with elution buffer (PBS, 250 mM imidazole, pH 7.6) containing the protease inhibitor mixture, spun 30 s at 10,000 × g, and collected the eluted protein.Protein Kinase Assays. We mixed glutathione-Sepharose beads (harboring GST-CDK10 wt or kd, either monomeric or complexed with StrepII-CycM), 22.7 μM BSA, 15 mM DTT, 100 μM ATP, 5 μCi ATP[γ-32P], 7.75 μM histone H1, or 1 μM 6His-ETS2 and added kinase buffer A (25 mM Tris·HCl, 10 mM MgCl2, 1 mM EGTA, 1 mM DTT, and 3.7 μM heparin, pH 7.5) up to a total volume of 30 μL. We incubated the reactions 30 min at 30 °C, added Laemli sample buffer, heat-denatured the samples, and ran 10% Bis-Tris SDS/PAGE. We cut gel slices to detect GST-CDK10 and StrepII-CycM by Western blotting. We stained the gel slices containing the substrate with Coomassie (R-250, Bio-Rad), dried them, and detected the incorporated radioactivity by autoradiography. We identified four unrelated girls with anogenital and renal malformations, dysmorphic facial features, normal intellect and syndactyly of toes. A similar combination of features had been reported previously in a mother–daughter pair1 (Table 1 and Supplementary Note online). These authors noted clinical overlap with Townes-Brocks syndrome but suggested that the phenotype represented a separate autosomal dominant entity (MIM601446). Here we define the cardinal features of this syndrome as a characteristic facial appearance with apparent telecanthus and broad tripartite nasal tip, variable syndactyly of toes 2–5, hypoplastic labia, anal atresia and urogenital malformations (Fig. 1a–h). We also observed a variety of other features (Table 1).  Figure 1: Clinical and molecular characterization of STAR syndrome.  Figure 1 : Clinical and molecular characterization of STAR syndrome. (a–f) Facial appearances of cases 1–3 (apparent telecanthus, dysplastic ears and thin upper lips; a,c,e), and toe syndactyly 2–5, 3–5 or 4–5 (b,d,f) in these cases illustrate recognizable features of STAR syndrome (specific parental consent has been obtained for publication of these photographs). Anal atresia and hypoplastic labia are not shown. (g,h) X-ray films of the feet of case 2 showing only four rays on the left and delta-shaped 4th and 5th metatarsals on the right (h; compare to clinical picture in d). (i) Array-CGH data. Log2 ratio represents copy number loss of six probes spanning between 37.9 and 50.7 kb, with one probe positioned within FAM58A. The deletion does not remove parts of other functional genes. (j) Schematic structure of FAM58A and position of the mutations. FAM58A has five coding exons (boxes). The cyclin domain (green) is encoded by exons 2–4. The horizontal arrow indicates the deletion extending 5' in case 1, which includes exons 1 and 2, whereas the horizontal line below exon 5 indicates the deletion found in case 3, which removes exon 5 and some 3' sequence. The pink horizontal bars above the boxes indicate the amplicons used for qPCR and sequencing (one alternative exon 5 amplicon is not indicated because of space constraints). The mutation 201dupT (case 4) results in an immediate stop codon, and the 555+1G>A and 555-1G>A splice mutations in cases 2, 5 and 6 are predicted to be deleterious because they alter the conserved splice donor and acceptor site of intron 4, respectively.  Full size image (97 KB)  Table 1: Clinical features in STAR syndrome cases  Table 1 - Clinical features in STAR syndrome cases  Full table  On the basis of the phenotypic overlap with Townes-Brocks, Okihiro and Feingold syndromes, we analyzed SALL1 (ref. 2), SALL4 (ref. 3) and MYCN4 but found no mutations in any of these genes (Supplementary Methods online). Next, we carried out genome-wide high-resolution oligonucleotide array comparative genomic hybridization (CGH)5 analysis (Supplementary Methods) of genomic DNA from the most severely affected individual (case 1, with lower lid coloboma, epilepsy and syringomyelia) and identified a heterozygous deletion of 37.9–50.7 kb on Xq28, which removed exons 1 and 2 of FAM58A (Fig. 1i,j). Using real-time PCR, we confirmed the deletion in the child and excluded it in her unaffected parents (Supplementary Fig. 1a online, Supplementary Methods and Supplementary Table 1 online). Through CGH with a customized oligonucleotide array enriched in probes for Xq28, followed by breakpoint cloning, we defined the exact deletion size as 40,068 bp (g.152,514,164_152,554,231del(chromosome X, NCBI Build 36.2); Fig. 1j and Supplementary Figs. 2,3 online). The deletion removes the coding regions of exons 1 and 2 as well as intron 1 (2,774 bp), 492 bp of intron 2, and 36,608 bp of 5' sequence, including the 5' UTR and the entire KRT18P48 pseudogene (NCBI gene ID 340598). Paternity was proven using routine methods. We did not find deletions overlapping FAM58A in the available copy number variation (CNV) databases.  Subsequently, we carried out qPCR analysis of the three other affected individuals (cases 2, 3 and 4) and the mother-daughter pair from the literature (cases 5 and 6). In case 3, we detected a de novo heterozygous deletion of 1.1–10.3 kb overlapping exon 5 (Supplementary Fig. 1b online). Using Xq28-targeted array CGH and breakpoint cloning, we identified a deletion of 4,249 bp (g.152,504,123_152,508,371del(chromosome X, NCBI Build 36.2); Fig. 1j and Supplementary Figs. 2,3), which removed 1,265 bp of intron 4, all of exon 5, including the 3' UTR, and 2,454 bp of 3' sequence.  We found heterozygous FAM58A point mutations in the remaining cases (Fig. 1j, Supplementary Fig. 2, Supplementary Methods and Supplementary Table 1). In case 2, we identified the mutation 555+1G>A, affecting the splice donor site of intron 4. In case 4, we identified the frameshift mutation 201dupT, which immediately results in a premature stop codon N68XfsX1. In cases 5 and 6, we detected the mutation 556-1G>A, which alters the splice acceptor site of intron 4. We validated the point mutations and deletions by independent rounds of PCR and sequencing or by qPCR. We confirmed paternity and de novo status of the point mutations and deletions in all sporadic cases. None of the mutations were seen in the DNA of 60 unaffected female controls, and no larger deletions involving FAM58A were found in 93 unrelated array-CGH investigations.  By analyzing X-chromosome inactivation (Supplementary Methods and Supplementary Fig. 4 online), we found complete skewing of X inactivation in cases 1 and 3–6 and almost complete skewing in case 2, suggesting that cells carrying the mutation on the active X chromosome have a growth disadvantage during fetal development. Using RT-PCR on RNA from lymphoblastoid cells of case 2 (Supplementary Fig. 2), we did not find any aberrant splice products as additional evidence that the mutated allele is inactivated. Furthermore, FAM58A is subjected to X inactivation6. In cases 1 and 3, the parental origin of the deletions could not be determined, as a result of lack of informative SNPs. Case 5, the mother of case 6, gave birth to two boys, both clinically unaffected (samples not available). We cannot exclude that the condition is lethal in males. No fetal losses were reported from any of the families.  The function of FAM58A is unknown. The gene consists of five coding exons, and the 642-bp coding region encodes a protein of 214 amino acids. GenBank lists a mRNA length of 1,257 bp for the reference sequence (NM_152274.2). Expression of the gene (by EST data) was found in 27 of 48 adult tissues including kidney, colon, cervix and uterus, but not heart (NCBI expression viewer, UniGene Hs.496943). Expression was also noted in 24 of 26 listed tumor tissues as well as in embryo and fetus. Genes homologous to FAM58A (NCBI HomoloGene: 13362) are found on the X chromosome in the chimpanzee and the dog. The zebrafish has a similar gene on chromosome 23. However, in the mouse and rat, there are no true homologs. These species have similar but intronless genes on chromosomes 11 (mouse) and 10 (rat), most likely arising from a retrotransposon insertion event. On the murine X chromosome, the flanking genes Atp2b3 and Dusp9 are conserved, but only remnants of the FAM58A sequence can be detected.  FAM58A contains a cyclin-box-fold domain, a protein-binding domain found in cyclins with a role in cell cycle and transcription control. No human phenotype resulting from a cyclin gene mutation has yet been reported. Homozygous knockout mice for Ccnd1 (encoding cyclin D1) are viable but small and have reduced lifespan. They also have dystrophic changes of the retina, likely as a result of decreased cell proliferation and degeneration of photoreceptor cells during embryogenesis7, 8.  Cyclin D1 colocalizes with SALL4 in the nucleus, and both proteins cooperatively mediate transcriptional repression9. As the phenotype of our cases overlaps considerably with that of Townes-Brocks syndrome caused by SALL1 mutations1, we carried out co-immunoprecipitation to find out if SALL1 or SALL4 would interact with FAM58A in a manner similar to that observed for SALL4 and cyclin D1. We found that FAM58A interacts with SALL1 but not with SALL4 (Supplementary Fig. 5 online), supporting the hypothesis that FAM58A and SALL1 participate in the same developmental pathway.  How do FAM58A mutations lead to STAR syndrome? Growth retardation (all cases; Table 1) and retinal abnormalities (three cases) are reminiscent of the reduced body size and retinal anomalies in cyclin D1 knockout mice7, 8. Therefore, a proliferation defect might be partly responsible for STAR syndrome. To address this question, we carried out a knockdown of FAM58A mRNA followed by a proliferation assay. Transfection of HEK293 cells with three different FAM58A-specific RNAi oligonucleotides resulted in a significant reduction of both FAM58A mRNA expression and proliferation of transfected cells (Supplementary Methods and Supplementary Fig. 6 online), supporting the link between FAM58A and cell proliferation.  We found that loss-of-function mutations of FAM58A result in a rather homogeneous clinical phenotype. The additional anomalies in case 1 are likely to result from an effect of the 40-kb deletion on expression of a neighboring gene, possibly ATP2B3 or DUSP9. However, we cannot exclude that the homogeneous phenotype results from an ascertainment bias and that FAM58A mutations, including missense changes, could result in a broader spectrum of malformations. The genes causing the overlapping phenotypes of STAR syndrome and Townes-Brocks syndrome seem to act in the same pathway. Of note, MYCN, a gene mutated in Feingold syndrome, is a direct regulator of cyclin D2 (refs. 10,11); thus, it is worth exploring whether the phenotypic similarities between Feingold and STAR syndrome might be explained by direct regulation of FAM58A by MYCN.  FAM58A is located approximately 0.56 Mb centromeric to MECP2 on Xq28. Duplications overlapping both MECP2 and FAM58A have been described and are not associated with a clinical phenotype in females12, but no deletions overlapping both MECP2 and FAM58A have been observed to date13. Although other genes between FAM58A and MECP2 have been implicated in brain development, FAM58A and MECP2 are the only genes in this region known to result in X-linked dominant phenotypes; thus, deletion of both genes on the same allele might be lethal in both males and females. \n"
     ]
    },
    {
     "name": "stdout",
     "output_type": "stream",
     "text": [
      "Predicted class: 5\n"
     ]
    }
   ],
   "source": [
    "import joblib\n",
    "import scipy.sparse\n",
    "\n",
    "def predict_class(gene_vectorized, variation_vectorized, text_vectorized):\n",
    "    # Combine the vectorized representations if necessary (e.g., concatenate them)\n",
    "    combined_features = scipy.sparse.hstack([gene_vectorized, variation_vectorized, text_vectorized])\n",
    "\n",
    "    # Make predictions\n",
    "    prediction = model.predict(combined_features)\n",
    "    return prediction[0]\n",
    "\n",
    "def main():\n",
    "    # Get input from the user\n",
    "    gene = input(\"Enter gene: \")\n",
    "    variation = input(\"Enter variation: \")\n",
    "    text = input(\"Enter text: \")\n",
    "\n",
    "    # Predict the class\n",
    "    predicted_class = predict_class(gene_vectorizer, variation_vectorizer, text_vectorizer)\n",
    "\n",
    "    # Print the predicted class\n",
    "    print(\"Predicted class:\", predicted_class)\n",
    "\n",
    "if __name__ == \"__main__\":\n",
    "    gene_vectorizer = joblib.load('geneVectorizer.pkl')\n",
    "    variation_vectorizer = joblib.load('variationVectorizer.pkl')\n",
    "    text_vectorizer = joblib.load('textVectorizer.pkl')\n",
    "    model = joblib.load('model.pkl')  # Replace 'model.pkl' with the filename of your trained model\n",
    "    main()"
   ]
  },
  {
   "cell_type": "code",
   "execution_count": null,
   "id": "34ef34af",
   "metadata": {},
   "outputs": [],
   "source": []
  }
 ],
 "metadata": {
  "kernelspec": {
   "display_name": "Python 3 (ipykernel)",
   "language": "python",
   "name": "python3"
  },
  "language_info": {
   "codemirror_mode": {
    "name": "ipython",
    "version": 3
   },
   "file_extension": ".py",
   "mimetype": "text/x-python",
   "name": "python",
   "nbconvert_exporter": "python",
   "pygments_lexer": "ipython3",
   "version": "3.10.9"
  }
 },
 "nbformat": 4,
 "nbformat_minor": 5
}
